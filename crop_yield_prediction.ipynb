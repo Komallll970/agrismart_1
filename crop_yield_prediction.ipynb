{
 "cells": [
  {
   "cell_type": "markdown",
   "id": "a32c098f-354d-4816-a8b4-0179a375ce0f",
   "metadata": {},
   "source": [
    "### Crop Yield Prediction 🌾📈"
   ]
  },
  {
   "cell_type": "markdown",
   "id": "00d849de-a9ed-426f-a631-8b6d80610b5d",
   "metadata": {},
   "source": [
    "#### STEP 1: DATA COLLECTION AND DATA LOADING\n",
    "##### The dataset is collected from the kaggle : https://www.bing.com/ck/a?!&&p=f49b25b6112e96d7863449ffae50e89b61d0a63e0cd7d24de4b6cd7d806fcaf3JmltdHM9MTc0MjM0MjQwMA&ptn=3&ver=2&hsh=4&fclid=3ecb5df1-9176-6fef-36a0-4e9090706e44&psq=crop+yeild+datselt&u=a1aHR0cHM6Ly93d3cua2FnZ2xlLmNvbS9kYXRhc2V0cy9ha3NoYXRndXB0YTcvY3JvcC15aWVsZC1pbi1pbmRpYW4tc3RhdGVzLWRhdGFzZXQ&ntb=1"
   ]
  },
  {
   "cell_type": "code",
   "execution_count": 1,
   "id": "3b07f71c-d118-4879-8faf-dce860ca677b",
   "metadata": {
    "scrolled": true
   },
   "outputs": [
    {
     "data": {
      "text/html": [
       "<div>\n",
       "<style scoped>\n",
       "    .dataframe tbody tr th:only-of-type {\n",
       "        vertical-align: middle;\n",
       "    }\n",
       "\n",
       "    .dataframe tbody tr th {\n",
       "        vertical-align: top;\n",
       "    }\n",
       "\n",
       "    .dataframe thead th {\n",
       "        text-align: right;\n",
       "    }\n",
       "</style>\n",
       "<table border=\"1\" class=\"dataframe\">\n",
       "  <thead>\n",
       "    <tr style=\"text-align: right;\">\n",
       "      <th></th>\n",
       "      <th>Crop</th>\n",
       "      <th>Crop_Year</th>\n",
       "      <th>Season</th>\n",
       "      <th>State</th>\n",
       "      <th>Area</th>\n",
       "      <th>Production</th>\n",
       "      <th>Annual_Rainfall</th>\n",
       "      <th>Fertilizer</th>\n",
       "      <th>Pesticide</th>\n",
       "      <th>Yield</th>\n",
       "    </tr>\n",
       "  </thead>\n",
       "  <tbody>\n",
       "    <tr>\n",
       "      <th>0</th>\n",
       "      <td>Groundnut</td>\n",
       "      <td>2004</td>\n",
       "      <td>Summer</td>\n",
       "      <td>Maharashtra</td>\n",
       "      <td>69400.000000</td>\n",
       "      <td>100200.000000</td>\n",
       "      <td>1052.000000</td>\n",
       "      <td>7.518796e+06</td>\n",
       "      <td>14574.000000</td>\n",
       "      <td>1.313871</td>\n",
       "    </tr>\n",
       "    <tr>\n",
       "      <th>1</th>\n",
       "      <td>Groundnut</td>\n",
       "      <td>2015</td>\n",
       "      <td>Summer</td>\n",
       "      <td>Gujarat</td>\n",
       "      <td>57421.000000</td>\n",
       "      <td>95577.000000</td>\n",
       "      <td>584.300000</td>\n",
       "      <td>9.067350e+06</td>\n",
       "      <td>18948.930000</td>\n",
       "      <td>1.685926</td>\n",
       "    </tr>\n",
       "    <tr>\n",
       "      <th>2</th>\n",
       "      <td>Groundnut</td>\n",
       "      <td>2016</td>\n",
       "      <td>Kharif</td>\n",
       "      <td>Uttarakhand</td>\n",
       "      <td>935.000000</td>\n",
       "      <td>1214.000000</td>\n",
       "      <td>1580.900000</td>\n",
       "      <td>1.432888e+05</td>\n",
       "      <td>327.250000</td>\n",
       "      <td>1.296000</td>\n",
       "    </tr>\n",
       "    <tr>\n",
       "      <th>3</th>\n",
       "      <td>Groundnut</td>\n",
       "      <td>2001</td>\n",
       "      <td>Kharif</td>\n",
       "      <td>Kerala</td>\n",
       "      <td>2437.000000</td>\n",
       "      <td>1812.000000</td>\n",
       "      <td>2946.700000</td>\n",
       "      <td>2.488908e+05</td>\n",
       "      <td>633.620000</td>\n",
       "      <td>0.740000</td>\n",
       "    </tr>\n",
       "    <tr>\n",
       "      <th>4</th>\n",
       "      <td>Groundnut</td>\n",
       "      <td>2007</td>\n",
       "      <td>Kharif</td>\n",
       "      <td>Tripura</td>\n",
       "      <td>409.000000</td>\n",
       "      <td>423.000000</td>\n",
       "      <td>2831.800000</td>\n",
       "      <td>5.456060e+04</td>\n",
       "      <td>65.440000</td>\n",
       "      <td>1.087500</td>\n",
       "    </tr>\n",
       "    <tr>\n",
       "      <th>...</th>\n",
       "      <td>...</td>\n",
       "      <td>...</td>\n",
       "      <td>...</td>\n",
       "      <td>...</td>\n",
       "      <td>...</td>\n",
       "      <td>...</td>\n",
       "      <td>...</td>\n",
       "      <td>...</td>\n",
       "      <td>...</td>\n",
       "      <td>...</td>\n",
       "    </tr>\n",
       "    <tr>\n",
       "      <th>28413</th>\n",
       "      <td>Other Summer Pulses</td>\n",
       "      <td>2018</td>\n",
       "      <td>Summer</td>\n",
       "      <td>Puducherry</td>\n",
       "      <td>64.402128</td>\n",
       "      <td>63.508136</td>\n",
       "      <td>1703.817110</td>\n",
       "      <td>2.687839e+04</td>\n",
       "      <td>7.320995</td>\n",
       "      <td>0.986119</td>\n",
       "    </tr>\n",
       "    <tr>\n",
       "      <th>28414</th>\n",
       "      <td>Other Summer Pulses</td>\n",
       "      <td>2016</td>\n",
       "      <td>Summer</td>\n",
       "      <td>Puducherry</td>\n",
       "      <td>305.051328</td>\n",
       "      <td>0.010000</td>\n",
       "      <td>1374.880695</td>\n",
       "      <td>1.000000e-02</td>\n",
       "      <td>37.240797</td>\n",
       "      <td>0.000033</td>\n",
       "    </tr>\n",
       "    <tr>\n",
       "      <th>28415</th>\n",
       "      <td>Other Summer Pulses</td>\n",
       "      <td>2018</td>\n",
       "      <td>Summer</td>\n",
       "      <td>Puducherry</td>\n",
       "      <td>0.010000</td>\n",
       "      <td>0.010000</td>\n",
       "      <td>1691.968511</td>\n",
       "      <td>9.775003e+03</td>\n",
       "      <td>0.010000</td>\n",
       "      <td>1.000000</td>\n",
       "    </tr>\n",
       "    <tr>\n",
       "      <th>28416</th>\n",
       "      <td>Other Summer Pulses</td>\n",
       "      <td>2019</td>\n",
       "      <td>Summer</td>\n",
       "      <td>Puducherry</td>\n",
       "      <td>0.010000</td>\n",
       "      <td>12.686531</td>\n",
       "      <td>1323.518572</td>\n",
       "      <td>1.000000e-02</td>\n",
       "      <td>19.359492</td>\n",
       "      <td>1268.653118</td>\n",
       "    </tr>\n",
       "    <tr>\n",
       "      <th>28417</th>\n",
       "      <td>Other Summer Pulses</td>\n",
       "      <td>2017</td>\n",
       "      <td>Summer</td>\n",
       "      <td>Puducherry</td>\n",
       "      <td>0.010000</td>\n",
       "      <td>180.276703</td>\n",
       "      <td>1586.226955</td>\n",
       "      <td>8.256484e+03</td>\n",
       "      <td>37.890935</td>\n",
       "      <td>18027.670303</td>\n",
       "    </tr>\n",
       "  </tbody>\n",
       "</table>\n",
       "<p>28418 rows × 10 columns</p>\n",
       "</div>"
      ],
      "text/plain": [
       "                      Crop  Crop_Year       Season        State          Area  \\\n",
       "0                Groundnut       2004  Summer       Maharashtra  69400.000000   \n",
       "1                Groundnut       2015  Summer           Gujarat  57421.000000   \n",
       "2                Groundnut       2016  Kharif       Uttarakhand    935.000000   \n",
       "3                Groundnut       2001  Kharif            Kerala   2437.000000   \n",
       "4                Groundnut       2007  Kharif           Tripura    409.000000   \n",
       "...                    ...        ...          ...          ...           ...   \n",
       "28413  Other Summer Pulses       2018  Summer        Puducherry     64.402128   \n",
       "28414  Other Summer Pulses       2016  Summer        Puducherry    305.051328   \n",
       "28415  Other Summer Pulses       2018  Summer        Puducherry      0.010000   \n",
       "28416  Other Summer Pulses       2019  Summer        Puducherry      0.010000   \n",
       "28417  Other Summer Pulses       2017  Summer        Puducherry      0.010000   \n",
       "\n",
       "          Production  Annual_Rainfall    Fertilizer     Pesticide  \\\n",
       "0      100200.000000      1052.000000  7.518796e+06  14574.000000   \n",
       "1       95577.000000       584.300000  9.067350e+06  18948.930000   \n",
       "2        1214.000000      1580.900000  1.432888e+05    327.250000   \n",
       "3        1812.000000      2946.700000  2.488908e+05    633.620000   \n",
       "4         423.000000      2831.800000  5.456060e+04     65.440000   \n",
       "...              ...              ...           ...           ...   \n",
       "28413      63.508136      1703.817110  2.687839e+04      7.320995   \n",
       "28414       0.010000      1374.880695  1.000000e-02     37.240797   \n",
       "28415       0.010000      1691.968511  9.775003e+03      0.010000   \n",
       "28416      12.686531      1323.518572  1.000000e-02     19.359492   \n",
       "28417     180.276703      1586.226955  8.256484e+03     37.890935   \n",
       "\n",
       "              Yield  \n",
       "0          1.313871  \n",
       "1          1.685926  \n",
       "2          1.296000  \n",
       "3          0.740000  \n",
       "4          1.087500  \n",
       "...             ...  \n",
       "28413      0.986119  \n",
       "28414      0.000033  \n",
       "28415      1.000000  \n",
       "28416   1268.653118  \n",
       "28417  18027.670303  \n",
       "\n",
       "[28418 rows x 10 columns]"
      ]
     },
     "execution_count": 1,
     "metadata": {},
     "output_type": "execute_result"
    }
   ],
   "source": [
    "import pandas as pd\n",
    "df=pd.read_excel(r\"E:\\komal\\crop_yeild\\crop_yield_data.xlsx\")\n",
    "df"
   ]
  },
  {
   "cell_type": "markdown",
   "id": "7e567ff9-4482-4057-a6c7-d623cbab5e5c",
   "metadata": {},
   "source": [
    "#### STEP 2: ANALYZING THE DATASET\n",
    "##### The dataset provides comprehensive information on crop yields across various Indian states and Union Territories from 1997 to 2020. Here's an overview:\n",
    "##### Key Features:\n",
    "##### ✅ Temporal Coverage: 1997 to 2020\n",
    "##### ✅ Geographical Scope: All Indian states and Union Territories\n",
    "##### ✅ Data Attributes: State/UT Name, Year, Crop Name, Area Sown (in hectares), Production Quantity (in tonnes), Yield (Production per unit area)\n",
    "##### The dataset encompasses a wide variety of crops :\n",
    "##### ✅ Cereals: Rice, Wheat, Maize, Barley, Millets (e.g., Jowar, Bajra)\n",
    "##### ✅ Pulses: Lentils, Chickpeas, Pigeon Peas\n",
    "##### ✅ Oilseeds: Groundnut, Mustard, Soybean, Sunflower\n",
    "##### ✅ Fibers: Cotton, Jute\n",
    "##### ✅ Cash Crops: Sugarcane, Tobacco\n",
    "##### ✅ Horticultural Crops: Potatoes, Onions, Various Fruits\n"
   ]
  },
  {
   "cell_type": "markdown",
   "id": "be112560-e922-476b-95c2-f60a3fdb0e84",
   "metadata": {},
   "source": [
    "#### STEP 3 : DATA CLEANING AND DATA PREPROCESSING\n",
    "##### 📌 Checking whether there is requirement of cleaning or not"
   ]
  },
  {
   "cell_type": "code",
   "execution_count": 2,
   "id": "5575e151-519f-435c-aff4-57adc94a2763",
   "metadata": {},
   "outputs": [
    {
     "name": "stdout",
     "output_type": "stream",
     "text": [
      "Crop               0\n",
      "Crop_Year          0\n",
      "Season             0\n",
      "State              0\n",
      "Area               0\n",
      "Production         0\n",
      "Annual_Rainfall    0\n",
      "Fertilizer         0\n",
      "Pesticide          0\n",
      "Yield              0\n",
      "dtype: int64\n"
     ]
    }
   ],
   "source": [
    "print(df.isnull().sum())"
   ]
  },
  {
   "cell_type": "code",
   "execution_count": 3,
   "id": "9f7acd2c-5669-4506-ad84-467324405bdf",
   "metadata": {},
   "outputs": [
    {
     "name": "stdout",
     "output_type": "stream",
     "text": [
      "0\n"
     ]
    }
   ],
   "source": [
    "print(df.duplicated().sum())"
   ]
  },
  {
   "cell_type": "markdown",
   "id": "be055484-da69-4db9-b257-01d81532de9f",
   "metadata": {},
   "source": [
    "#### There is no required for data cleaning as  data is already cleaned"
   ]
  },
  {
   "cell_type": "markdown",
   "id": "410f354f-3a8e-485f-95a1-aa3b5223c7cc",
   "metadata": {},
   "source": [
    "#### Checking the count for each year"
   ]
  },
  {
   "cell_type": "code",
   "execution_count": 4,
   "id": "d7d7da19-f676-4a7b-b146-2df2df42f67e",
   "metadata": {},
   "outputs": [
    {
     "data": {
      "text/plain": [
       "Crop_Year\n",
       "2018    1762\n",
       "2019    1738\n",
       "2016    1706\n",
       "2017    1626\n",
       "2015    1474\n",
       "2013    1386\n",
       "2014    1366\n",
       "2011    1302\n",
       "2012    1244\n",
       "2009    1234\n",
       "2008    1215\n",
       "2007    1159\n",
       "2006    1157\n",
       "2010    1151\n",
       "2005    1135\n",
       "2002    1133\n",
       "2003    1133\n",
       "2004    1090\n",
       "2000    1051\n",
       "2001    1008\n",
       "1998     875\n",
       "1999     858\n",
       "1997     557\n",
       "2020      58\n",
       "Name: count, dtype: int64"
      ]
     },
     "execution_count": 4,
     "metadata": {},
     "output_type": "execute_result"
    }
   ],
   "source": [
    "df[\"Crop_Year\"].value_counts()"
   ]
  },
  {
   "cell_type": "markdown",
   "id": "b4b6adc1-cf7f-49eb-ba74-bf9ff0587587",
   "metadata": {},
   "source": [
    "#### 2020 has only 58 records. Consider filtering out 2020 from the dataset during preprocessing to avoid potential bias or noise."
   ]
  },
  {
   "cell_type": "code",
   "execution_count": 5,
   "id": "9825b0ed-da06-41bb-b84c-540321017c68",
   "metadata": {},
   "outputs": [],
   "source": [
    "df = df[df['Crop_Year'] != 2020]"
   ]
  },
  {
   "cell_type": "code",
   "execution_count": 6,
   "id": "3dd1cdfb-917c-445f-ade1-cb6b2db0b6f0",
   "metadata": {},
   "outputs": [
    {
     "data": {
      "text/plain": [
       "Crop_Year\n",
       "2018    1762\n",
       "2019    1738\n",
       "2016    1706\n",
       "2017    1626\n",
       "2015    1474\n",
       "2013    1386\n",
       "2014    1366\n",
       "2011    1302\n",
       "2012    1244\n",
       "2009    1234\n",
       "2008    1215\n",
       "2007    1159\n",
       "2006    1157\n",
       "2010    1151\n",
       "2005    1135\n",
       "2002    1133\n",
       "2003    1133\n",
       "2004    1090\n",
       "2000    1051\n",
       "2001    1008\n",
       "1998     875\n",
       "1999     858\n",
       "1997     557\n",
       "Name: count, dtype: int64"
      ]
     },
     "execution_count": 6,
     "metadata": {},
     "output_type": "execute_result"
    }
   ],
   "source": [
    "df[\"Crop_Year\"].value_counts()"
   ]
  },
  {
   "cell_type": "markdown",
   "id": "1b6e89a4-c6d0-4479-a0c3-f2b6899e806d",
   "metadata": {},
   "source": [
    "#### Checking the count for state"
   ]
  },
  {
   "cell_type": "code",
   "execution_count": 7,
   "id": "1cbef112-682e-424d-b07d-4a048b93aa4e",
   "metadata": {},
   "outputs": [
    {
     "data": {
      "text/plain": [
       "State\n",
       "Karnataka            2138\n",
       "Andhra Pradesh       1958\n",
       "West Bengal          1599\n",
       "Chhattisgarh         1332\n",
       "Tamil Nadu           1287\n",
       "Bihar                1274\n",
       "Madhya Pradesh       1200\n",
       "Gujarat              1147\n",
       "Maharashtra          1125\n",
       "Puducherry           1110\n",
       "Uttarakhand          1110\n",
       "Uttar Pradesh        1092\n",
       "Assam                1024\n",
       "Kerala                994\n",
       "Jammu and Kashmir     987\n",
       "Meghalaya             982\n",
       "Nagaland              920\n",
       "Haryana               882\n",
       "Odisha                847\n",
       "Himachal Pradesh      807\n",
       "Arunachal Pradesh     623\n",
       "Manipur               591\n",
       "Telangana             578\n",
       "Punjab                544\n",
       "Mizoram               526\n",
       "Tripura               513\n",
       "Goa                   424\n",
       "Jharkhand             273\n",
       "Sikkim                271\n",
       "Delhi                 202\n",
       "Name: count, dtype: int64"
      ]
     },
     "execution_count": 7,
     "metadata": {},
     "output_type": "execute_result"
    }
   ],
   "source": [
    "df[\"State\"].value_counts()"
   ]
  },
  {
   "cell_type": "markdown",
   "id": "5e22ddb8-ada9-488d-9fd4-ea9e4beb5be8",
   "metadata": {},
   "source": [
    "#### Filtering some crops that have less records"
   ]
  },
  {
   "cell_type": "code",
   "execution_count": 8,
   "id": "5aa25855-1ab1-4752-bfb5-a88f11f09d2f",
   "metadata": {},
   "outputs": [
    {
     "data": {
      "text/plain": [
       "array(['Groundnut', 'Maize', 'Moong(Green Gram)', 'Potato', 'Rice',\n",
       "       'Sesamum', 'Sugarcane', 'Urad', 'Arhar/Tur', 'Rapeseed &Mustard',\n",
       "       'Wheat', 'Bajra', 'Jowar', 'Ragi', 'Gram', 'Small millets',\n",
       "       'Cotton(lint)', 'Onion', 'Sunflower', 'Dry chillies',\n",
       "       'Other Kharif pulses', 'Horse-gram', 'Peas & beans (Pulses)',\n",
       "       'Tobacco', 'Other  Rabi pulses', 'Soyabean', 'Turmeric', 'Masoor',\n",
       "       'Ginger', 'Linseed', 'Castor seed', 'Barley', 'Sweet potato',\n",
       "       'Garlic', 'Banana', 'Mesta', 'Tapioca', 'Coriander', 'Niger seed',\n",
       "       'Jute', 'Coconut ', 'Safflower', 'Arecanut', 'Sannhamp',\n",
       "       'Other Cereals', 'Cowpea(Lobia)', 'Cashewnut', 'Black pepper',\n",
       "       'other oilseeds', 'Moth', 'Khesari', 'Cardamom', 'Guar seed',\n",
       "       'Oilseeds total', 'Other Summer Pulses'], dtype=object)"
      ]
     },
     "execution_count": 8,
     "metadata": {},
     "output_type": "execute_result"
    }
   ],
   "source": [
    "df[\"Crop\"].unique()"
   ]
  },
  {
   "cell_type": "code",
   "execution_count": 9,
   "id": "4d88875f-183d-41df-ad3b-dad655994928",
   "metadata": {
    "scrolled": true
   },
   "outputs": [
    {
     "data": {
      "text/plain": [
       "Crop\n",
       "Rice                     600\n",
       "Groundnut                599\n",
       "Sesamum                  599\n",
       "Sugarcane                599\n",
       "Maize                    598\n",
       "Moong(Green Gram)        598\n",
       "Potato                   598\n",
       "Urad                     598\n",
       "Wheat                    544\n",
       "Rapeseed &Mustard        527\n",
       "Bajra                    524\n",
       "Jowar                    513\n",
       "Arhar/Tur                507\n",
       "Arecanut                 500\n",
       "Mesta                    500\n",
       "Tapioca                  500\n",
       "Coriander                500\n",
       "Niger seed               500\n",
       "Jute                     500\n",
       "Coconut                  500\n",
       "Safflower                500\n",
       "Cardamom                 500\n",
       "Sannhamp                 500\n",
       "Cowpea(Lobia)            500\n",
       "Cashewnut                500\n",
       "Black pepper             500\n",
       "Khesari                  500\n",
       "Sweet potato             500\n",
       "Guar seed                500\n",
       "Oilseeds total           500\n",
       "Banana                   500\n",
       "Other Summer Pulses      500\n",
       "Castor seed              500\n",
       "Linseed                  500\n",
       "Ginger                   500\n",
       "Cotton(lint)             500\n",
       "Dry chillies             500\n",
       "Other Kharif pulses      499\n",
       "Garlic                   499\n",
       "Ragi                     499\n",
       "Gram                     499\n",
       "Small millets            499\n",
       "Onion                    499\n",
       "Masoor                   499\n",
       "Horse-gram               499\n",
       "Tobacco                  499\n",
       "Other  Rabi pulses       499\n",
       "Turmeric                 499\n",
       "Sunflower                498\n",
       "Peas & beans (Pulses)    498\n",
       "Soyabean                 498\n",
       "Moth                     497\n",
       "Barley                   496\n",
       "Other Cereals            495\n",
       "other oilseeds           485\n",
       "Name: count, dtype: int64"
      ]
     },
     "execution_count": 9,
     "metadata": {},
     "output_type": "execute_result"
    }
   ],
   "source": [
    "df[\"Crop\"].value_counts()\n"
   ]
  },
  {
   "cell_type": "code",
   "execution_count": 10,
   "id": "de21afab-bd7a-458c-8169-31114e56033d",
   "metadata": {},
   "outputs": [],
   "source": [
    "# List of crops to remove\n",
    "crops_to_remove = ['Other Cereals','other oilseeds','Oilseeds total','Other Kharif pulses','Other  Rabi pulses','Other Summer Pulses']\n",
    "\n",
    "df1 = df[~df['Crop'].isin(crops_to_remove)].reset_index(drop=True)"
   ]
  },
  {
   "cell_type": "code",
   "execution_count": 11,
   "id": "6ecd6206-59d6-4b3f-a140-1c789d7c5174",
   "metadata": {},
   "outputs": [
    {
     "data": {
      "text/plain": [
       "Crop\n",
       "Rice                     600\n",
       "Groundnut                599\n",
       "Sesamum                  599\n",
       "Sugarcane                599\n",
       "Maize                    598\n",
       "Moong(Green Gram)        598\n",
       "Potato                   598\n",
       "Urad                     598\n",
       "Wheat                    544\n",
       "Rapeseed &Mustard        527\n",
       "Bajra                    524\n",
       "Jowar                    513\n",
       "Arhar/Tur                507\n",
       "Safflower                500\n",
       "Mesta                    500\n",
       "Tapioca                  500\n",
       "Coriander                500\n",
       "Niger seed               500\n",
       "Jute                     500\n",
       "Coconut                  500\n",
       "Khesari                  500\n",
       "Arecanut                 500\n",
       "Sannhamp                 500\n",
       "Cowpea(Lobia)            500\n",
       "Cashewnut                500\n",
       "Black pepper             500\n",
       "Sweet potato             500\n",
       "Cardamom                 500\n",
       "Banana                   500\n",
       "Guar seed                500\n",
       "Dry chillies             500\n",
       "Castor seed              500\n",
       "Linseed                  500\n",
       "Ginger                   500\n",
       "Cotton(lint)             500\n",
       "Horse-gram               499\n",
       "Ragi                     499\n",
       "Gram                     499\n",
       "Small millets            499\n",
       "Onion                    499\n",
       "Turmeric                 499\n",
       "Garlic                   499\n",
       "Tobacco                  499\n",
       "Masoor                   499\n",
       "Sunflower                498\n",
       "Peas & beans (Pulses)    498\n",
       "Soyabean                 498\n",
       "Moth                     497\n",
       "Barley                   496\n",
       "Name: count, dtype: int64"
      ]
     },
     "execution_count": 11,
     "metadata": {},
     "output_type": "execute_result"
    }
   ],
   "source": [
    "df1[\"Crop\"].value_counts()"
   ]
  },
  {
   "cell_type": "code",
   "execution_count": 12,
   "id": "1467fc58-5812-47e9-838d-924c9187bcc2",
   "metadata": {},
   "outputs": [
    {
     "data": {
      "text/plain": [
       "array(['Groundnut', 'Maize', 'Moong(Green Gram)', 'Potato', 'Rice',\n",
       "       'Sesamum', 'Sugarcane', 'Urad', 'Arhar/Tur', 'Rapeseed &Mustard',\n",
       "       'Wheat', 'Bajra', 'Jowar', 'Ragi', 'Gram', 'Small millets',\n",
       "       'Cotton(lint)', 'Onion', 'Sunflower', 'Dry chillies', 'Horse-gram',\n",
       "       'Peas & beans (Pulses)', 'Tobacco', 'Soyabean', 'Turmeric',\n",
       "       'Masoor', 'Ginger', 'Linseed', 'Castor seed', 'Barley',\n",
       "       'Sweet potato', 'Garlic', 'Banana', 'Mesta', 'Tapioca',\n",
       "       'Coriander', 'Niger seed', 'Jute', 'Coconut ', 'Safflower',\n",
       "       'Arecanut', 'Sannhamp', 'Cowpea(Lobia)', 'Cashewnut',\n",
       "       'Black pepper', 'Moth', 'Khesari', 'Cardamom', 'Guar seed'],\n",
       "      dtype=object)"
      ]
     },
     "execution_count": 12,
     "metadata": {},
     "output_type": "execute_result"
    }
   ],
   "source": [
    "df1[\"Crop\"].unique() #45 crop"
   ]
  },
  {
   "cell_type": "code",
   "execution_count": 13,
   "id": "64f4cb43-4823-4b4f-8a8f-c00d9cbb713e",
   "metadata": {},
   "outputs": [
    {
     "data": {
      "text/plain": [
       "(25382, 10)"
      ]
     },
     "execution_count": 13,
     "metadata": {},
     "output_type": "execute_result"
    }
   ],
   "source": [
    "df1.shape"
   ]
  },
  {
   "cell_type": "code",
   "execution_count": 14,
   "id": "2f9277a6-d67c-46f9-b668-2abf88927d8f",
   "metadata": {},
   "outputs": [
    {
     "data": {
      "text/plain": [
       "Index(['Crop', 'Crop_Year', 'Season', 'State', 'Area', 'Production',\n",
       "       'Annual_Rainfall', 'Fertilizer', 'Pesticide', 'Yield'],\n",
       "      dtype='object')"
      ]
     },
     "execution_count": 14,
     "metadata": {},
     "output_type": "execute_result"
    }
   ],
   "source": [
    "df.columns"
   ]
  },
  {
   "cell_type": "markdown",
   "id": "b6cacf01-acb3-426c-8d23-f459b10818cb",
   "metadata": {},
   "source": [
    "#### Data Visualization"
   ]
  },
  {
   "cell_type": "markdown",
   "id": "7d68ba9b-a6fb-4eff-8b00-d13787c396dc",
   "metadata": {},
   "source": [
    "#### 1. Checking Crop Yield for different State"
   ]
  },
  {
   "cell_type": "code",
   "execution_count": 15,
   "id": "406b4f99-17e2-4d00-b261-8bd712d57c67",
   "metadata": {},
   "outputs": [
    {
     "data": {
      "image/png": "[encoded data removed]",
      "text/plain": [
       "<Figure size 500x400 with 1 Axes>"
      ]
     },
     "metadata": {},
     "output_type": "display_data"
    }
   ],
   "source": [
    "import pandas as pd\n",
    "import matplotlib.pyplot as plt\n",
    "\n",
    "# Grouping by State and calculating average yield\n",
    "top10_yield_states = df.groupby(\"State\")[\"Yield\"].mean().sort_values(ascending=False).head(10).reset_index()\n",
    "\n",
    "# Renaming columns for clarity\n",
    "top10_yield_states.columns = ['State', 'Average_Yield']\n",
    "\n",
    "# Storing the result back into the main df (if needed, otherwise use a new variable)\n",
    "df_top10_yield = top10_yield_states.copy()\n",
    "\n",
    "# Plotting\n",
    "plt.figure(figsize=(5, 4))\n",
    "plt.bar(df_top10_yield['State'], df_top10_yield['Average_Yield'], color='skyblue',edgecolor=\"black\")\n",
    "plt.title(\"Top 10 States by Average Yield\")\n",
    "plt.xlabel(\"State\")\n",
    "plt.ylabel(\"Average Yield\")\n",
    "plt.xticks(rotation=90)\n",
    "plt.tight_layout()\n",
    "plt.show()\n"
   ]
  },
  {
   "cell_type": "markdown",
   "id": "82773017-519c-4d12-9acf-bf4e8c108f71",
   "metadata": {},
   "source": [
    "#### 🌾 Top 10 crop by Production"
   ]
  },
  {
   "cell_type": "code",
   "execution_count": 16,
   "id": "5e81d91c-3db7-4d9a-a41b-a97da180ec14",
   "metadata": {},
   "outputs": [
    {
     "data": {
      "image/png": "[encoded data removed]",
      "text/plain": [
       "<Figure size 800x500 with 1 Axes>"
      ]
     },
     "metadata": {},
     "output_type": "display_data"
    }
   ],
   "source": [
    "# Group by Crop and sum the Production\n",
    "top10_crops_production = df.groupby(\"Crop\")[\"Yield\"].sum().sort_values(ascending=False).head(10).reset_index()\n",
    "\n",
    "# Rename columns\n",
    "top10_crops_production.columns = ['Crop', 'Yield']\n",
    "\n",
    "# Plot\n",
    "plt.figure(figsize=(8,5))\n",
    "plt.bar(top10_crops_production['Crop'], top10_crops_production['Yield'], color='orange',edgecolor=\"black\")\n",
    "plt.title(\"Top 10 Crops by Yield\")\n",
    "plt.xlabel(\"Crop\")\n",
    "plt.ylabel(\"Total Yield\")\n",
    "plt.xticks(rotation=90)\n",
    "plt.tight_layout()\n",
    "plt.show()\n"
   ]
  },
  {
   "cell_type": "markdown",
   "id": "04749c89-1fb8-4505-9b90-bec3bfef6082",
   "metadata": {},
   "source": [
    "####  Average Yield Over the Years"
   ]
  },
  {
   "cell_type": "code",
   "execution_count": 18,
   "id": "cd38feea-5c9d-4e8a-8edd-5ccc02595f18",
   "metadata": {},
   "outputs": [
    {
     "data": {
      "image/png": "[encoded data removed]",
      "text/plain": [
       "<Figure size 800x500 with 1 Axes>"
      ]
     },
     "metadata": {},
     "output_type": "display_data"
    }
   ],
   "source": [
    "# Group by year and calculate average yield\n",
    "df_state = df.groupby('Crop_Year',as_index=False)['Yield'].sum()\n",
    "\n",
    "# Plotting the average yield over the years\n",
    "plt.figure(figsize=(8, 5))\n",
    "plt.plot(df_state['Crop_Year'], df_state['Yield'],color='blue', linestyle='dashed', marker='o',markersize=12, markerfacecolor='yellow')\n",
    "plt.title(\"Average Yield Over the Years\")\n",
    "plt.xlabel(\"Year\")\n",
    "plt.ylabel(\"Average Yield\")\n",
    "plt.grid(True)\n",
    "plt.tight_layout()\n",
    "plt.show()\n",
    "\n"
   ]
  },
  {
   "cell_type": "markdown",
   "id": "d58e46bd-25ba-46e6-8396-f49a22d665d4",
   "metadata": {},
   "source": [
    "#### Rainfall vs Yield\n",
    "#### --→ Scatter plot to explore relationship between annual rainfall and yield."
   ]
  },
  {
   "cell_type": "code",
   "execution_count": 18,
   "id": "5401fef0-613e-4fd6-a795-3fc8e8a55746",
   "metadata": {},
   "outputs": [
    {
     "data": {
      "image/png": "[encoded data removed]",
      "text/plain": [
       "<Figure size 1500x500 with 1 Axes>"
      ]
     },
     "metadata": {},
     "output_type": "display_data"
    }
   ],
   "source": [
    "# Scatter plot: Rainfall vs Yield\n",
    "plt.figure(figsize=(15, 5))\n",
    "plt.scatter(df['Annual_Rainfall'], df['Yield'], alpha=0.5, color='orange')\n",
    "plt.title(\"Rainfall vs Yield\")\n",
    "plt.xlabel(\"Annual Rainfall (mm)\")\n",
    "plt.ylabel(\"Yield\")\n",
    "plt.grid(True)\n",
    "plt.tight_layout()\n",
    "plt.show()\n"
   ]
  },
  {
   "cell_type": "markdown",
   "id": "7123a7a5-4cfb-4faf-a8ac-912fc081a00c",
   "metadata": {},
   "source": [
    "#### 🌾 Fertilizer vs Yield – Checks for efficiency in fertilizer usage."
   ]
  },
  {
   "cell_type": "code",
   "execution_count": 19,
   "id": "d40d14e5-6ad1-4466-9836-e7cac8b85c97",
   "metadata": {},
   "outputs": [
    {
     "data": {
      "image/png": "[encoded data removed]",
      "text/plain": [
       "<Figure size 800x400 with 1 Axes>"
      ]
     },
     "metadata": {},
     "output_type": "display_data"
    }
   ],
   "source": [
    "plt.figure(figsize=(8,4))\n",
    "plt.scatter(df['Fertilizer'], df['Yield'], alpha=0.5, color='green')\n",
    "plt.title(\"Fertilizer vs Yield\")\n",
    "plt.xlabel(\"Fertilizer Usage\")\n",
    "plt.ylabel(\"Yield\")\n",
    "plt.grid(True)\n",
    "plt.tight_layout()\n",
    "plt.show()\n"
   ]
  },
  {
   "cell_type": "markdown",
   "id": "b39ecebd-3fb5-4cd0-8ae4-8a5c0c88eef9",
   "metadata": {},
   "source": [
    "#### Fertilizer trend over year"
   ]
  },
  {
   "cell_type": "code",
   "execution_count": 20,
   "id": "a8d66a7e-2e9c-494c-8b29-c58b08fa7e45",
   "metadata": {},
   "outputs": [
    {
     "data": {
      "image/png": "[encoded data removed]",
      "text/plain": [
       "<Figure size 600x300 with 1 Axes>"
      ]
     },
     "metadata": {},
     "output_type": "display_data"
    }
   ],
   "source": [
    "df_state = df.groupby('Crop_Year',as_index=False)['Fertilizer'].sum()\n",
    "plt.figure(figsize = (6,3))\n",
    "plt.plot(df_state['Crop_Year'], df_state['Fertilizer'],color='blue', linestyle='dashed', marker='o',markersize=12, markerfacecolor='yellow')\n",
    "plt.xlabel('Year')\n",
    "plt.ylabel('Fertilizer')\n",
    "plt.title('Measure of Fertilizer over the year')\n",
    "plt.show()"
   ]
  },
  {
   "cell_type": "markdown",
   "id": "681160b0-ed41-4ce1-a3d5-e16ecfa8b328",
   "metadata": {},
   "source": [
    "#### 🐛 Pesticide vs Yield --> Examines potential overuse or underuse of pesticides."
   ]
  },
  {
   "cell_type": "code",
   "execution_count": 22,
   "id": "fb2cc022-258e-4829-bfa7-37acacce868c",
   "metadata": {},
   "outputs": [
    {
     "data": {
      "image/png": "[encoded data removed]",
      "text/plain": [
       "<Figure size 600x300 with 1 Axes>"
      ]
     },
     "metadata": {},
     "output_type": "display_data"
    }
   ],
   "source": [
    "plt.figure(figsize=(6,3))\n",
    "plt.scatter(df['Pesticide'], df['Yield'], alpha=0.5, color='red')\n",
    "plt.title(\"Pesticide vs Yield\")\n",
    "plt.xlabel(\"Pesticide Usage\")\n",
    "plt.ylabel(\"Yield\")\n",
    "plt.grid(True)\n",
    "plt.tight_layout()\n",
    "plt.show()\n"
   ]
  },
  {
   "cell_type": "markdown",
   "id": "dd53c5a3-1029-4366-b08c-a7cab8dc9498",
   "metadata": {},
   "source": [
    "#### 📅 Yield per Season --> Highlights seasonal differences in crop yield.\n",
    "\n"
   ]
  },
  {
   "cell_type": "code",
   "execution_count": 23,
   "id": "567c05a2-b3bd-4de8-848f-ccb847a66d2b",
   "metadata": {},
   "outputs": [
    {
     "data": {
      "image/png": "[encoded data removed]",
      "text/plain": [
       "<Figure size 600x400 with 1 Axes>"
      ]
     },
     "metadata": {},
     "output_type": "display_data"
    }
   ],
   "source": [
    "import seaborn as sns\n",
    "import matplotlib.pyplot as plt\n",
    "\n",
    "plt.figure(figsize=(6, 4))\n",
    "sns.boxplot(data=df, x='Season', y='Yield', hue='Season', palette='Pastel1', legend=False)\n",
    "plt.title(\"Yield per Season\")\n",
    "plt.xlabel(\"Season\")\n",
    "plt.ylabel(\"Yield\")\n",
    "plt.tight_layout()\n",
    "plt.show()"
   ]
  },
  {
   "cell_type": "markdown",
   "id": "929278f5-7124-4799-9a46-b7894340935c",
   "metadata": {},
   "source": [
    "#### 📌 Interpretation:\n",
    "##### Some crops grown year-round (like sugarcane, bananas, or plantation crops) might have high and diverse yield values, which causes that spike in “Whole Year”.Other seasons might be mostly for cereal or pulse crops with lower average yields.\n",
    "\n"
   ]
  },
  {
   "cell_type": "markdown",
   "id": "792044ff-28ae-4a0c-8c81-efe5a425bbd2",
   "metadata": {},
   "source": [
    "#### 🌍  Area vs Production"
   ]
  },
  {
   "cell_type": "code",
   "execution_count": 24,
   "id": "c45c8084-e19a-4f73-aac5-64c510a71633",
   "metadata": {},
   "outputs": [
    {
     "data": {
      "image/png": "[encoded data removed]",
      "text/plain": [
       "<Figure size 600x300 with 1 Axes>"
      ]
     },
     "metadata": {},
     "output_type": "display_data"
    }
   ],
   "source": [
    "import matplotlib.pyplot as plt\n",
    "\n",
    "# Filter out extreme values for clarity\n",
    "filtered_df = df[(df['Area'] > 0) & (df['Area'] < 1e7) & (df['Production'] < 1e9)]\n",
    "\n",
    "plt.figure(figsize=(6, 3))\n",
    "plt.scatter(filtered_df['Area'], filtered_df['Production'], alpha=0.5, color='darkgreen')\n",
    "plt.title(\"Area vs Production (Filtered)\")\n",
    "plt.xlabel(\"Area\")\n",
    "plt.ylabel(\"Production\")\n",
    "plt.tight_layout()\n",
    "plt.show()\n"
   ]
  },
  {
   "cell_type": "markdown",
   "id": "d741c854-49dc-4f7c-95e1-035c9f8c8e26",
   "metadata": {},
   "source": [
    "#### Production trend over year"
   ]
  },
  {
   "cell_type": "code",
   "execution_count": 25,
   "id": "22f9e013-2cd0-4763-8f5b-cbb11a7574f2",
   "metadata": {},
   "outputs": [
    {
     "data": {
      "image/png": "[encoded data removed]",
      "text/plain": [
       "<Figure size 800x400 with 1 Axes>"
      ]
     },
     "metadata": {},
     "output_type": "display_data"
    }
   ],
   "source": [
    "# Group by year and calculate total production\n",
    "production_trend = df.groupby(\"Crop_Year\")[\"Production\"].sum()\n",
    "\n",
    "# Plotting the trend\n",
    "plt.figure(figsize=(8, 4))\n",
    "plt.plot(production_trend.index, production_trend.values, marker='o', linestyle='-', color='pink')\n",
    "plt.title(\"Total Crop Production Over the Years\")\n",
    "plt.xlabel(\"Year\")\n",
    "plt.ylabel(\"Total Production\")\n",
    "plt.grid(True, linestyle='--', alpha=0.6)\n",
    "plt.tight_layout()\n",
    "plt.show()\n"
   ]
  },
  {
   "cell_type": "markdown",
   "id": "a1e1c0c1-ac35-45ca-bbe7-a053f7ac1684",
   "metadata": {},
   "source": [
    "#### Top 10 States by Production"
   ]
  },
  {
   "cell_type": "code",
   "execution_count": 3,
   "id": "28cd8e81-f6a6-46ed-aac6-0601b3e792fc",
   "metadata": {},
   "outputs": [
    {
     "data": {
      "image/png": "[encoded data removed]",
      "text/plain": [
       "<Figure size 600x400 with 1 Axes>"
      ]
     },
     "metadata": {},
     "output_type": "display_data"
    }
   ],
   "source": [
    "top_states_production = df.groupby('State')['Production'].sum().sort_values(ascending=False).head(10).reset_index()\n",
    "\n",
    "plt.figure(figsize=(6, 4))\n",
    "plt.barh(top_states_production['State'], top_states_production['Production'], color='darkorange')\n",
    "plt.title(\"Top 10 States by Total Production\")\n",
    "plt.xlabel(\"Total Production\")\n",
    "plt.gca().invert_yaxis()\n",
    "plt.tight_layout()\n",
    "plt.show()\n"
   ]
  },
  {
   "cell_type": "markdown",
   "id": "31131a76-dd27-4c8b-8301-c9117ed37438",
   "metadata": {},
   "source": [
    "#### 🔥 Heatmap of Yield by State & Year – A detailed time-series overview across region"
   ]
  },
  {
   "cell_type": "code",
   "execution_count": 26,
   "id": "36a1ba5c-f5e5-4f53-9507-f2c09a4d71a8",
   "metadata": {},
   "outputs": [
    {
     "data": {
      "image/png": "[encoded data removed]",
      "text/plain": [
       "<Figure size 800x400 with 2 Axes>"
      ]
     },
     "metadata": {},
     "output_type": "display_data"
    }
   ],
   "source": [
    "heatmap_data = df.groupby(['State', 'Crop_Year'])['Yield'].mean().unstack()\n",
    "\n",
    "plt.figure(figsize=(8, 4))\n",
    "sns.heatmap(heatmap_data, cmap=\"YlGnBu\", linewidths=0.5, linecolor='gray')\n",
    "plt.title(\"Heatmap: Average Yield by State and Year\")\n",
    "plt.xlabel(\"Year\")\n",
    "plt.ylabel(\"State\")\n",
    "plt.tight_layout()\n",
    "plt.show()\n"
   ]
  },
  {
   "cell_type": "markdown",
   "id": "a8a5d88d-bd66-4a54-a6ff-ce6beff56a25",
   "metadata": {},
   "source": [
    "#### 📈Production Trend of Top 3 Crops Over the Years --> Helps visualize how production changes over time for major crops."
   ]
  },
  {
   "cell_type": "code",
   "execution_count": 5,
   "id": "ff073129-fd4a-42db-a45d-e9cf90fc94ce",
   "metadata": {},
   "outputs": [
    {
     "data": {
      "image/png": "[encoded data removed]",
      "text/plain": [
       "<Figure size 600x400 with 1 Axes>"
      ]
     },
     "metadata": {},
     "output_type": "display_data"
    }
   ],
   "source": [
    "top_crops = df.groupby('Crop')['Production'].sum().nlargest(2).index\n",
    "filtered = df[df['Crop'].isin(top_crops)]\n",
    "crop_trends = filtered.groupby(['Crop_Year', 'Crop'])['Production'].sum().unstack()\n",
    "\n",
    "crop_trends.plot(figsize=(6,4), marker='o')\n",
    "plt.title(\"Production Trend of Top 2 Crops Over the Years\")\n",
    "plt.xlabel(\"Year\")\n",
    "plt.ylabel(\"Total Production\")\n",
    "plt.grid(True)\n",
    "plt.tight_layout()\n",
    "plt.show()\n"
   ]
  },
  {
   "cell_type": "markdown",
   "id": "10160888-b1e6-4d15-a2f4-44c980ef51ed",
   "metadata": {},
   "source": [
    "#### Yield over the Year"
   ]
  },
  {
   "cell_type": "code",
   "execution_count": 28,
   "id": "3db0b5f9-b6aa-4deb-80ec-6097f7ad230e",
   "metadata": {},
   "outputs": [
    {
     "data": {
      "image/png": "[encoded data removed]",
      "text/plain": [
       "<Figure size 1500x500 with 1 Axes>"
      ]
     },
     "metadata": {},
     "output_type": "display_data"
    }
   ],
   "source": [
    "df_state = df.groupby('Crop_Year',as_index=False)['Yield'].sum()\n",
    "plt.figure(figsize = (15,5))\n",
    "plt.plot(df_state['Crop_Year'], df_state['Yield'],color='blue', linestyle='dashed', marker='o',markersize=12, markerfacecolor='yellow')\n",
    "plt.xlabel('Year')\n",
    "plt.ylabel('Yield')\n",
    "plt.title('Measure of Yield over the year')\n",
    "plt.show()"
   ]
  },
  {
   "cell_type": "markdown",
   "id": "5718e59f-9359-4211-a96e-9df81f37d087",
   "metadata": {},
   "source": [
    "#### PERFORMING LABEL ENCODING"
   ]
  },
  {
   "cell_type": "markdown",
   "id": "1307c823-93f0-41be-a23d-16249e2dc19f",
   "metadata": {},
   "source": [
    "#### 🌾 Crop \n",
    "##### It represent the type of crop that is going to be cultivated."
   ]
  },
  {
   "cell_type": "code",
   "execution_count": 29,
   "id": "db6e7e9c-237b-44fa-811e-034d2b45f527",
   "metadata": {},
   "outputs": [
    {
     "data": {
      "text/plain": [
       "Crop\n",
       "Rice                     600\n",
       "Groundnut                599\n",
       "Sesamum                  599\n",
       "Sugarcane                599\n",
       "Maize                    598\n",
       "Moong(Green Gram)        598\n",
       "Potato                   598\n",
       "Urad                     598\n",
       "Wheat                    544\n",
       "Rapeseed &Mustard        527\n",
       "Bajra                    524\n",
       "Jowar                    513\n",
       "Arhar/Tur                507\n",
       "Safflower                500\n",
       "Mesta                    500\n",
       "Tapioca                  500\n",
       "Coriander                500\n",
       "Niger seed               500\n",
       "Jute                     500\n",
       "Coconut                  500\n",
       "Khesari                  500\n",
       "Arecanut                 500\n",
       "Sannhamp                 500\n",
       "Cowpea(Lobia)            500\n",
       "Cashewnut                500\n",
       "Black pepper             500\n",
       "Sweet potato             500\n",
       "Cardamom                 500\n",
       "Banana                   500\n",
       "Guar seed                500\n",
       "Dry chillies             500\n",
       "Castor seed              500\n",
       "Linseed                  500\n",
       "Ginger                   500\n",
       "Cotton(lint)             500\n",
       "Horse-gram               499\n",
       "Ragi                     499\n",
       "Gram                     499\n",
       "Small millets            499\n",
       "Onion                    499\n",
       "Turmeric                 499\n",
       "Garlic                   499\n",
       "Tobacco                  499\n",
       "Masoor                   499\n",
       "Sunflower                498\n",
       "Peas & beans (Pulses)    498\n",
       "Soyabean                 498\n",
       "Moth                     497\n",
       "Barley                   496\n",
       "Name: count, dtype: int64"
      ]
     },
     "execution_count": 29,
     "metadata": {},
     "output_type": "execute_result"
    }
   ],
   "source": [
    "df1[\"Crop\"].value_counts()"
   ]
  },
  {
   "cell_type": "code",
   "execution_count": 30,
   "id": "df9445ea-b375-4efc-8558-75817f1ae229",
   "metadata": {},
   "outputs": [
    {
     "data": {
      "text/html": [
       "<div>\n",
       "<style scoped>\n",
       "    .dataframe tbody tr th:only-of-type {\n",
       "        vertical-align: middle;\n",
       "    }\n",
       "\n",
       "    .dataframe tbody tr th {\n",
       "        vertical-align: top;\n",
       "    }\n",
       "\n",
       "    .dataframe thead th {\n",
       "        text-align: right;\n",
       "    }\n",
       "</style>\n",
       "<table border=\"1\" class=\"dataframe\">\n",
       "  <thead>\n",
       "    <tr style=\"text-align: right;\">\n",
       "      <th></th>\n",
       "      <th>Crop</th>\n",
       "      <th>Crop_Year</th>\n",
       "      <th>Season</th>\n",
       "      <th>State</th>\n",
       "      <th>Area</th>\n",
       "      <th>Production</th>\n",
       "      <th>Annual_Rainfall</th>\n",
       "      <th>Fertilizer</th>\n",
       "      <th>Pesticide</th>\n",
       "      <th>Yield</th>\n",
       "    </tr>\n",
       "  </thead>\n",
       "  <tbody>\n",
       "    <tr>\n",
       "      <th>0</th>\n",
       "      <td>17</td>\n",
       "      <td>2004</td>\n",
       "      <td>Summer</td>\n",
       "      <td>Maharashtra</td>\n",
       "      <td>69400.000000</td>\n",
       "      <td>100200.000000</td>\n",
       "      <td>1052.000000</td>\n",
       "      <td>7.518796e+06</td>\n",
       "      <td>14574.000000</td>\n",
       "      <td>1.313871e+00</td>\n",
       "    </tr>\n",
       "    <tr>\n",
       "      <th>1</th>\n",
       "      <td>17</td>\n",
       "      <td>2015</td>\n",
       "      <td>Summer</td>\n",
       "      <td>Gujarat</td>\n",
       "      <td>57421.000000</td>\n",
       "      <td>95577.000000</td>\n",
       "      <td>584.300000</td>\n",
       "      <td>9.067350e+06</td>\n",
       "      <td>18948.930000</td>\n",
       "      <td>1.685926e+00</td>\n",
       "    </tr>\n",
       "    <tr>\n",
       "      <th>2</th>\n",
       "      <td>17</td>\n",
       "      <td>2016</td>\n",
       "      <td>Kharif</td>\n",
       "      <td>Uttarakhand</td>\n",
       "      <td>935.000000</td>\n",
       "      <td>1214.000000</td>\n",
       "      <td>1580.900000</td>\n",
       "      <td>1.432888e+05</td>\n",
       "      <td>327.250000</td>\n",
       "      <td>1.296000e+00</td>\n",
       "    </tr>\n",
       "    <tr>\n",
       "      <th>3</th>\n",
       "      <td>17</td>\n",
       "      <td>2001</td>\n",
       "      <td>Kharif</td>\n",
       "      <td>Kerala</td>\n",
       "      <td>2437.000000</td>\n",
       "      <td>1812.000000</td>\n",
       "      <td>2946.700000</td>\n",
       "      <td>2.488908e+05</td>\n",
       "      <td>633.620000</td>\n",
       "      <td>7.400000e-01</td>\n",
       "    </tr>\n",
       "    <tr>\n",
       "      <th>4</th>\n",
       "      <td>17</td>\n",
       "      <td>2007</td>\n",
       "      <td>Kharif</td>\n",
       "      <td>Tripura</td>\n",
       "      <td>409.000000</td>\n",
       "      <td>423.000000</td>\n",
       "      <td>2831.800000</td>\n",
       "      <td>5.456060e+04</td>\n",
       "      <td>65.440000</td>\n",
       "      <td>1.087500e+00</td>\n",
       "    </tr>\n",
       "    <tr>\n",
       "      <th>...</th>\n",
       "      <td>...</td>\n",
       "      <td>...</td>\n",
       "      <td>...</td>\n",
       "      <td>...</td>\n",
       "      <td>...</td>\n",
       "      <td>...</td>\n",
       "      <td>...</td>\n",
       "      <td>...</td>\n",
       "      <td>...</td>\n",
       "      <td>...</td>\n",
       "    </tr>\n",
       "    <tr>\n",
       "      <th>25377</th>\n",
       "      <td>18</td>\n",
       "      <td>2019</td>\n",
       "      <td>Rabi</td>\n",
       "      <td>Andhra Pradesh</td>\n",
       "      <td>0.010000</td>\n",
       "      <td>18434.644974</td>\n",
       "      <td>893.733236</td>\n",
       "      <td>1.000000e-02</td>\n",
       "      <td>1580.736011</td>\n",
       "      <td>1.843464e+06</td>\n",
       "    </tr>\n",
       "    <tr>\n",
       "      <th>25378</th>\n",
       "      <td>18</td>\n",
       "      <td>2006</td>\n",
       "      <td>Whole Year</td>\n",
       "      <td>Uttar Pradesh</td>\n",
       "      <td>0.010000</td>\n",
       "      <td>56336.986798</td>\n",
       "      <td>566.544820</td>\n",
       "      <td>5.000957e+05</td>\n",
       "      <td>0.010000</td>\n",
       "      <td>5.633699e+06</td>\n",
       "    </tr>\n",
       "    <tr>\n",
       "      <th>25379</th>\n",
       "      <td>18</td>\n",
       "      <td>2012</td>\n",
       "      <td>Whole Year</td>\n",
       "      <td>Gujarat</td>\n",
       "      <td>219694.157535</td>\n",
       "      <td>143525.202754</td>\n",
       "      <td>451.584845</td>\n",
       "      <td>3.046479e+07</td>\n",
       "      <td>64245.162383</td>\n",
       "      <td>6.532955e-01</td>\n",
       "    </tr>\n",
       "    <tr>\n",
       "      <th>25380</th>\n",
       "      <td>18</td>\n",
       "      <td>2016</td>\n",
       "      <td>Kharif</td>\n",
       "      <td>Punjab</td>\n",
       "      <td>30824.116478</td>\n",
       "      <td>0.010000</td>\n",
       "      <td>621.052070</td>\n",
       "      <td>4.980096e+06</td>\n",
       "      <td>13438.340489</td>\n",
       "      <td>3.244213e-07</td>\n",
       "    </tr>\n",
       "    <tr>\n",
       "      <th>25381</th>\n",
       "      <td>18</td>\n",
       "      <td>2004</td>\n",
       "      <td>Whole Year</td>\n",
       "      <td>Punjab</td>\n",
       "      <td>33687.321363</td>\n",
       "      <td>24622.625751</td>\n",
       "      <td>361.280348</td>\n",
       "      <td>2.762521e+06</td>\n",
       "      <td>1668.854568</td>\n",
       "      <td>7.309167e-01</td>\n",
       "    </tr>\n",
       "  </tbody>\n",
       "</table>\n",
       "<p>25382 rows × 10 columns</p>\n",
       "</div>"
      ],
      "text/plain": [
       "       Crop  Crop_Year       Season           State           Area  \\\n",
       "0        17       2004  Summer          Maharashtra   69400.000000   \n",
       "1        17       2015  Summer              Gujarat   57421.000000   \n",
       "2        17       2016  Kharif          Uttarakhand     935.000000   \n",
       "3        17       2001  Kharif               Kerala    2437.000000   \n",
       "4        17       2007  Kharif              Tripura     409.000000   \n",
       "...     ...        ...          ...             ...            ...   \n",
       "25377    18       2019  Rabi         Andhra Pradesh       0.010000   \n",
       "25378    18       2006  Whole Year    Uttar Pradesh       0.010000   \n",
       "25379    18       2012  Whole Year          Gujarat  219694.157535   \n",
       "25380    18       2016  Kharif               Punjab   30824.116478   \n",
       "25381    18       2004  Whole Year           Punjab   33687.321363   \n",
       "\n",
       "          Production  Annual_Rainfall    Fertilizer     Pesticide  \\\n",
       "0      100200.000000      1052.000000  7.518796e+06  14574.000000   \n",
       "1       95577.000000       584.300000  9.067350e+06  18948.930000   \n",
       "2        1214.000000      1580.900000  1.432888e+05    327.250000   \n",
       "3        1812.000000      2946.700000  2.488908e+05    633.620000   \n",
       "4         423.000000      2831.800000  5.456060e+04     65.440000   \n",
       "...              ...              ...           ...           ...   \n",
       "25377   18434.644974       893.733236  1.000000e-02   1580.736011   \n",
       "25378   56336.986798       566.544820  5.000957e+05      0.010000   \n",
       "25379  143525.202754       451.584845  3.046479e+07  64245.162383   \n",
       "25380       0.010000       621.052070  4.980096e+06  13438.340489   \n",
       "25381   24622.625751       361.280348  2.762521e+06   1668.854568   \n",
       "\n",
       "              Yield  \n",
       "0      1.313871e+00  \n",
       "1      1.685926e+00  \n",
       "2      1.296000e+00  \n",
       "3      7.400000e-01  \n",
       "4      1.087500e+00  \n",
       "...             ...  \n",
       "25377  1.843464e+06  \n",
       "25378  5.633699e+06  \n",
       "25379  6.532955e-01  \n",
       "25380  3.244213e-07  \n",
       "25381  7.309167e-01  \n",
       "\n",
       "[25382 rows x 10 columns]"
      ]
     },
     "execution_count": 30,
     "metadata": {},
     "output_type": "execute_result"
    }
   ],
   "source": [
    "from sklearn.preprocessing import LabelEncoder\n",
    "encoder=LabelEncoder()  # creating object of LabelEncoder\n",
    "df1[\"Crop\"]=encoder.fit_transform(df1[\"Crop\"])   # fit-->means learning from data and then tranforming it using transform\n",
    "df1"
   ]
  },
  {
   "cell_type": "code",
   "execution_count": 31,
   "id": "537ec322-2449-4e9a-b924-5df9fb4b5086",
   "metadata": {},
   "outputs": [
    {
     "data": {
      "text/html": [
       "<div>\n",
       "<style scoped>\n",
       "    .dataframe tbody tr th:only-of-type {\n",
       "        vertical-align: middle;\n",
       "    }\n",
       "\n",
       "    .dataframe tbody tr th {\n",
       "        vertical-align: top;\n",
       "    }\n",
       "\n",
       "    .dataframe thead th {\n",
       "        text-align: right;\n",
       "    }\n",
       "</style>\n",
       "<table border=\"1\" class=\"dataframe\">\n",
       "  <thead>\n",
       "    <tr style=\"text-align: right;\">\n",
       "      <th></th>\n",
       "      <th>Crop</th>\n",
       "      <th>Crop_Year</th>\n",
       "      <th>Season</th>\n",
       "      <th>State</th>\n",
       "      <th>Area</th>\n",
       "      <th>Production</th>\n",
       "      <th>Annual_Rainfall</th>\n",
       "      <th>Fertilizer</th>\n",
       "      <th>Pesticide</th>\n",
       "      <th>Yield</th>\n",
       "    </tr>\n",
       "  </thead>\n",
       "  <tbody>\n",
       "    <tr>\n",
       "      <th>0</th>\n",
       "      <td>17</td>\n",
       "      <td>2004</td>\n",
       "      <td>Summer</td>\n",
       "      <td>15</td>\n",
       "      <td>69400.000000</td>\n",
       "      <td>100200.000000</td>\n",
       "      <td>1052.000000</td>\n",
       "      <td>7.518796e+06</td>\n",
       "      <td>14574.000000</td>\n",
       "      <td>1.313871e+00</td>\n",
       "    </tr>\n",
       "    <tr>\n",
       "      <th>1</th>\n",
       "      <td>17</td>\n",
       "      <td>2015</td>\n",
       "      <td>Summer</td>\n",
       "      <td>7</td>\n",
       "      <td>57421.000000</td>\n",
       "      <td>95577.000000</td>\n",
       "      <td>584.300000</td>\n",
       "      <td>9.067350e+06</td>\n",
       "      <td>18948.930000</td>\n",
       "      <td>1.685926e+00</td>\n",
       "    </tr>\n",
       "    <tr>\n",
       "      <th>2</th>\n",
       "      <td>17</td>\n",
       "      <td>2016</td>\n",
       "      <td>Kharif</td>\n",
       "      <td>28</td>\n",
       "      <td>935.000000</td>\n",
       "      <td>1214.000000</td>\n",
       "      <td>1580.900000</td>\n",
       "      <td>1.432888e+05</td>\n",
       "      <td>327.250000</td>\n",
       "      <td>1.296000e+00</td>\n",
       "    </tr>\n",
       "    <tr>\n",
       "      <th>3</th>\n",
       "      <td>17</td>\n",
       "      <td>2001</td>\n",
       "      <td>Kharif</td>\n",
       "      <td>13</td>\n",
       "      <td>2437.000000</td>\n",
       "      <td>1812.000000</td>\n",
       "      <td>2946.700000</td>\n",
       "      <td>2.488908e+05</td>\n",
       "      <td>633.620000</td>\n",
       "      <td>7.400000e-01</td>\n",
       "    </tr>\n",
       "    <tr>\n",
       "      <th>4</th>\n",
       "      <td>17</td>\n",
       "      <td>2007</td>\n",
       "      <td>Kharif</td>\n",
       "      <td>26</td>\n",
       "      <td>409.000000</td>\n",
       "      <td>423.000000</td>\n",
       "      <td>2831.800000</td>\n",
       "      <td>5.456060e+04</td>\n",
       "      <td>65.440000</td>\n",
       "      <td>1.087500e+00</td>\n",
       "    </tr>\n",
       "    <tr>\n",
       "      <th>...</th>\n",
       "      <td>...</td>\n",
       "      <td>...</td>\n",
       "      <td>...</td>\n",
       "      <td>...</td>\n",
       "      <td>...</td>\n",
       "      <td>...</td>\n",
       "      <td>...</td>\n",
       "      <td>...</td>\n",
       "      <td>...</td>\n",
       "      <td>...</td>\n",
       "    </tr>\n",
       "    <tr>\n",
       "      <th>25377</th>\n",
       "      <td>18</td>\n",
       "      <td>2019</td>\n",
       "      <td>Rabi</td>\n",
       "      <td>0</td>\n",
       "      <td>0.010000</td>\n",
       "      <td>18434.644974</td>\n",
       "      <td>893.733236</td>\n",
       "      <td>1.000000e-02</td>\n",
       "      <td>1580.736011</td>\n",
       "      <td>1.843464e+06</td>\n",
       "    </tr>\n",
       "    <tr>\n",
       "      <th>25378</th>\n",
       "      <td>18</td>\n",
       "      <td>2006</td>\n",
       "      <td>Whole Year</td>\n",
       "      <td>27</td>\n",
       "      <td>0.010000</td>\n",
       "      <td>56336.986798</td>\n",
       "      <td>566.544820</td>\n",
       "      <td>5.000957e+05</td>\n",
       "      <td>0.010000</td>\n",
       "      <td>5.633699e+06</td>\n",
       "    </tr>\n",
       "    <tr>\n",
       "      <th>25379</th>\n",
       "      <td>18</td>\n",
       "      <td>2012</td>\n",
       "      <td>Whole Year</td>\n",
       "      <td>7</td>\n",
       "      <td>219694.157535</td>\n",
       "      <td>143525.202754</td>\n",
       "      <td>451.584845</td>\n",
       "      <td>3.046479e+07</td>\n",
       "      <td>64245.162383</td>\n",
       "      <td>6.532955e-01</td>\n",
       "    </tr>\n",
       "    <tr>\n",
       "      <th>25380</th>\n",
       "      <td>18</td>\n",
       "      <td>2016</td>\n",
       "      <td>Kharif</td>\n",
       "      <td>22</td>\n",
       "      <td>30824.116478</td>\n",
       "      <td>0.010000</td>\n",
       "      <td>621.052070</td>\n",
       "      <td>4.980096e+06</td>\n",
       "      <td>13438.340489</td>\n",
       "      <td>3.244213e-07</td>\n",
       "    </tr>\n",
       "    <tr>\n",
       "      <th>25381</th>\n",
       "      <td>18</td>\n",
       "      <td>2004</td>\n",
       "      <td>Whole Year</td>\n",
       "      <td>22</td>\n",
       "      <td>33687.321363</td>\n",
       "      <td>24622.625751</td>\n",
       "      <td>361.280348</td>\n",
       "      <td>2.762521e+06</td>\n",
       "      <td>1668.854568</td>\n",
       "      <td>7.309167e-01</td>\n",
       "    </tr>\n",
       "  </tbody>\n",
       "</table>\n",
       "<p>25382 rows × 10 columns</p>\n",
       "</div>"
      ],
      "text/plain": [
       "       Crop  Crop_Year       Season  State           Area     Production  \\\n",
       "0        17       2004  Summer          15   69400.000000  100200.000000   \n",
       "1        17       2015  Summer           7   57421.000000   95577.000000   \n",
       "2        17       2016  Kharif          28     935.000000    1214.000000   \n",
       "3        17       2001  Kharif          13    2437.000000    1812.000000   \n",
       "4        17       2007  Kharif          26     409.000000     423.000000   \n",
       "...     ...        ...          ...    ...            ...            ...   \n",
       "25377    18       2019  Rabi             0       0.010000   18434.644974   \n",
       "25378    18       2006  Whole Year      27       0.010000   56336.986798   \n",
       "25379    18       2012  Whole Year       7  219694.157535  143525.202754   \n",
       "25380    18       2016  Kharif          22   30824.116478       0.010000   \n",
       "25381    18       2004  Whole Year      22   33687.321363   24622.625751   \n",
       "\n",
       "       Annual_Rainfall    Fertilizer     Pesticide         Yield  \n",
       "0          1052.000000  7.518796e+06  14574.000000  1.313871e+00  \n",
       "1           584.300000  9.067350e+06  18948.930000  1.685926e+00  \n",
       "2          1580.900000  1.432888e+05    327.250000  1.296000e+00  \n",
       "3          2946.700000  2.488908e+05    633.620000  7.400000e-01  \n",
       "4          2831.800000  5.456060e+04     65.440000  1.087500e+00  \n",
       "...                ...           ...           ...           ...  \n",
       "25377       893.733236  1.000000e-02   1580.736011  1.843464e+06  \n",
       "25378       566.544820  5.000957e+05      0.010000  5.633699e+06  \n",
       "25379       451.584845  3.046479e+07  64245.162383  6.532955e-01  \n",
       "25380       621.052070  4.980096e+06  13438.340489  3.244213e-07  \n",
       "25381       361.280348  2.762521e+06   1668.854568  7.309167e-01  \n",
       "\n",
       "[25382 rows x 10 columns]"
      ]
     },
     "execution_count": 31,
     "metadata": {},
     "output_type": "execute_result"
    }
   ],
   "source": [
    "from sklearn.preprocessing import LabelEncoder\n",
    "encoder1=LabelEncoder()  # creating object of LabelEncoder\n",
    "df1[\"State\"]=encoder1.fit_transform(df1[\"State\"])   # fit-->means learning from data and then tranforming it using transform\n",
    "df1\n",
    "\n"
   ]
  },
  {
   "cell_type": "markdown",
   "id": "b20d3e8d-51c2-4065-9c72-1798c1d00171",
   "metadata": {},
   "source": [
    "#### 🌦️ What is a Season?\n",
    "##### A season is a part of the year with specific weather conditions when the crop is grown.Types of season are :\n",
    "##### 🌾 1. Rabi Season (Winter crops)\n",
    "##### Sowing time: October–November  , Harvesting: March–April  , Needs: Less water, cool climate\n",
    "##### Examples: Wheat 🌾, Mustard 🌻, Peas\n",
    "##### 🌧️ 2. Kharif Season (Rainy season crops)\n",
    "##### Sowing time: Start of monsoon (June–July),  Harvesting: September–October  , Needs: Lots of water, warm weather\n",
    "##### Examples: Rice 🍚, Maize 🌽, Cotton, Groundnut\n",
    "##### 🔥 3. Zaid Season (Short summer season)\n",
    "##### Sowing time: Between Rabi and Kharif (March–April) ,  Harvesting: June , Needs: Hot weather + irrigation\n",
    "##### Examples: Watermelon 🍉, Cucumber 🥒, Fodder crops\n",
    "#####  In dataset , a season which name whole year is also included that represent tha crop, that can be grwon in any season."
   ]
  },
  {
   "cell_type": "code",
   "execution_count": 32,
   "id": "024d3ecb-38fa-4447-9310-5f6ae90fa13c",
   "metadata": {},
   "outputs": [],
   "source": [
    "# Clean the Season column: remove extra spaces and capitalize properly\n",
    "df1[\"Season\"] = df1[\"Season\"].str.strip().str.title()\n"
   ]
  },
  {
   "cell_type": "code",
   "execution_count": 33,
   "id": "0ce160ac-dd7a-45bc-a8f5-684e5b16a06e",
   "metadata": {},
   "outputs": [
    {
     "data": {
      "text/plain": [
       "Season\n",
       "Kharif        9803\n",
       "Rabi          6962\n",
       "Whole Year    6953\n",
       "Summer        1013\n",
       "Autumn         332\n",
       "Winter         319\n",
       "Name: count, dtype: int64"
      ]
     },
     "execution_count": 33,
     "metadata": {},
     "output_type": "execute_result"
    }
   ],
   "source": [
    "df1[\"Season\"].value_counts()"
   ]
  },
  {
   "cell_type": "code",
   "execution_count": 34,
   "id": "f41e6516-1003-4d5f-bd6f-987232e984aa",
   "metadata": {},
   "outputs": [],
   "source": [
    "encoder2=LabelEncoder()\n",
    "df1[\"Season\"]=encoder2.fit_transform(df1[\"Season\"])"
   ]
  },
  {
   "cell_type": "code",
   "execution_count": 35,
   "id": "7fd08eb1-6211-47b9-81ce-69f6adf18ded",
   "metadata": {},
   "outputs": [],
   "source": [
    "#import seaborn\n",
    "#seaborn.violinplot(data=df1,x=\"Yield\",y=\"Season\")"
   ]
  },
  {
   "cell_type": "code",
   "execution_count": 36,
   "id": "a2fe8aee-420a-42ff-8dab-393dcde71ebc",
   "metadata": {},
   "outputs": [
    {
     "data": {
      "text/html": [
       "<div>\n",
       "<style scoped>\n",
       "    .dataframe tbody tr th:only-of-type {\n",
       "        vertical-align: middle;\n",
       "    }\n",
       "\n",
       "    .dataframe tbody tr th {\n",
       "        vertical-align: top;\n",
       "    }\n",
       "\n",
       "    .dataframe thead th {\n",
       "        text-align: right;\n",
       "    }\n",
       "</style>\n",
       "<table border=\"1\" class=\"dataframe\">\n",
       "  <thead>\n",
       "    <tr style=\"text-align: right;\">\n",
       "      <th></th>\n",
       "      <th>Crop</th>\n",
       "      <th>Crop_Year</th>\n",
       "      <th>Season</th>\n",
       "      <th>State</th>\n",
       "      <th>Area</th>\n",
       "      <th>Production</th>\n",
       "      <th>Annual_Rainfall</th>\n",
       "      <th>Fertilizer</th>\n",
       "      <th>Pesticide</th>\n",
       "      <th>Yield</th>\n",
       "    </tr>\n",
       "  </thead>\n",
       "  <tbody>\n",
       "    <tr>\n",
       "      <th>0</th>\n",
       "      <td>17</td>\n",
       "      <td>2004</td>\n",
       "      <td>3</td>\n",
       "      <td>15</td>\n",
       "      <td>69400.000000</td>\n",
       "      <td>100200.000000</td>\n",
       "      <td>1052.000000</td>\n",
       "      <td>7.518796e+06</td>\n",
       "      <td>14574.000000</td>\n",
       "      <td>1.313871e+00</td>\n",
       "    </tr>\n",
       "    <tr>\n",
       "      <th>1</th>\n",
       "      <td>17</td>\n",
       "      <td>2015</td>\n",
       "      <td>3</td>\n",
       "      <td>7</td>\n",
       "      <td>57421.000000</td>\n",
       "      <td>95577.000000</td>\n",
       "      <td>584.300000</td>\n",
       "      <td>9.067350e+06</td>\n",
       "      <td>18948.930000</td>\n",
       "      <td>1.685926e+00</td>\n",
       "    </tr>\n",
       "    <tr>\n",
       "      <th>2</th>\n",
       "      <td>17</td>\n",
       "      <td>2016</td>\n",
       "      <td>1</td>\n",
       "      <td>28</td>\n",
       "      <td>935.000000</td>\n",
       "      <td>1214.000000</td>\n",
       "      <td>1580.900000</td>\n",
       "      <td>1.432888e+05</td>\n",
       "      <td>327.250000</td>\n",
       "      <td>1.296000e+00</td>\n",
       "    </tr>\n",
       "    <tr>\n",
       "      <th>3</th>\n",
       "      <td>17</td>\n",
       "      <td>2001</td>\n",
       "      <td>1</td>\n",
       "      <td>13</td>\n",
       "      <td>2437.000000</td>\n",
       "      <td>1812.000000</td>\n",
       "      <td>2946.700000</td>\n",
       "      <td>2.488908e+05</td>\n",
       "      <td>633.620000</td>\n",
       "      <td>7.400000e-01</td>\n",
       "    </tr>\n",
       "    <tr>\n",
       "      <th>4</th>\n",
       "      <td>17</td>\n",
       "      <td>2007</td>\n",
       "      <td>1</td>\n",
       "      <td>26</td>\n",
       "      <td>409.000000</td>\n",
       "      <td>423.000000</td>\n",
       "      <td>2831.800000</td>\n",
       "      <td>5.456060e+04</td>\n",
       "      <td>65.440000</td>\n",
       "      <td>1.087500e+00</td>\n",
       "    </tr>\n",
       "    <tr>\n",
       "      <th>...</th>\n",
       "      <td>...</td>\n",
       "      <td>...</td>\n",
       "      <td>...</td>\n",
       "      <td>...</td>\n",
       "      <td>...</td>\n",
       "      <td>...</td>\n",
       "      <td>...</td>\n",
       "      <td>...</td>\n",
       "      <td>...</td>\n",
       "      <td>...</td>\n",
       "    </tr>\n",
       "    <tr>\n",
       "      <th>25377</th>\n",
       "      <td>18</td>\n",
       "      <td>2019</td>\n",
       "      <td>2</td>\n",
       "      <td>0</td>\n",
       "      <td>0.010000</td>\n",
       "      <td>18434.644974</td>\n",
       "      <td>893.733236</td>\n",
       "      <td>1.000000e-02</td>\n",
       "      <td>1580.736011</td>\n",
       "      <td>1.843464e+06</td>\n",
       "    </tr>\n",
       "    <tr>\n",
       "      <th>25378</th>\n",
       "      <td>18</td>\n",
       "      <td>2006</td>\n",
       "      <td>4</td>\n",
       "      <td>27</td>\n",
       "      <td>0.010000</td>\n",
       "      <td>56336.986798</td>\n",
       "      <td>566.544820</td>\n",
       "      <td>5.000957e+05</td>\n",
       "      <td>0.010000</td>\n",
       "      <td>5.633699e+06</td>\n",
       "    </tr>\n",
       "    <tr>\n",
       "      <th>25379</th>\n",
       "      <td>18</td>\n",
       "      <td>2012</td>\n",
       "      <td>4</td>\n",
       "      <td>7</td>\n",
       "      <td>219694.157535</td>\n",
       "      <td>143525.202754</td>\n",
       "      <td>451.584845</td>\n",
       "      <td>3.046479e+07</td>\n",
       "      <td>64245.162383</td>\n",
       "      <td>6.532955e-01</td>\n",
       "    </tr>\n",
       "    <tr>\n",
       "      <th>25380</th>\n",
       "      <td>18</td>\n",
       "      <td>2016</td>\n",
       "      <td>1</td>\n",
       "      <td>22</td>\n",
       "      <td>30824.116478</td>\n",
       "      <td>0.010000</td>\n",
       "      <td>621.052070</td>\n",
       "      <td>4.980096e+06</td>\n",
       "      <td>13438.340489</td>\n",
       "      <td>3.244213e-07</td>\n",
       "    </tr>\n",
       "    <tr>\n",
       "      <th>25381</th>\n",
       "      <td>18</td>\n",
       "      <td>2004</td>\n",
       "      <td>4</td>\n",
       "      <td>22</td>\n",
       "      <td>33687.321363</td>\n",
       "      <td>24622.625751</td>\n",
       "      <td>361.280348</td>\n",
       "      <td>2.762521e+06</td>\n",
       "      <td>1668.854568</td>\n",
       "      <td>7.309167e-01</td>\n",
       "    </tr>\n",
       "  </tbody>\n",
       "</table>\n",
       "<p>25382 rows × 10 columns</p>\n",
       "</div>"
      ],
      "text/plain": [
       "       Crop  Crop_Year  Season  State           Area     Production  \\\n",
       "0        17       2004       3     15   69400.000000  100200.000000   \n",
       "1        17       2015       3      7   57421.000000   95577.000000   \n",
       "2        17       2016       1     28     935.000000    1214.000000   \n",
       "3        17       2001       1     13    2437.000000    1812.000000   \n",
       "4        17       2007       1     26     409.000000     423.000000   \n",
       "...     ...        ...     ...    ...            ...            ...   \n",
       "25377    18       2019       2      0       0.010000   18434.644974   \n",
       "25378    18       2006       4     27       0.010000   56336.986798   \n",
       "25379    18       2012       4      7  219694.157535  143525.202754   \n",
       "25380    18       2016       1     22   30824.116478       0.010000   \n",
       "25381    18       2004       4     22   33687.321363   24622.625751   \n",
       "\n",
       "       Annual_Rainfall    Fertilizer     Pesticide         Yield  \n",
       "0          1052.000000  7.518796e+06  14574.000000  1.313871e+00  \n",
       "1           584.300000  9.067350e+06  18948.930000  1.685926e+00  \n",
       "2          1580.900000  1.432888e+05    327.250000  1.296000e+00  \n",
       "3          2946.700000  2.488908e+05    633.620000  7.400000e-01  \n",
       "4          2831.800000  5.456060e+04     65.440000  1.087500e+00  \n",
       "...                ...           ...           ...           ...  \n",
       "25377       893.733236  1.000000e-02   1580.736011  1.843464e+06  \n",
       "25378       566.544820  5.000957e+05      0.010000  5.633699e+06  \n",
       "25379       451.584845  3.046479e+07  64245.162383  6.532955e-01  \n",
       "25380       621.052070  4.980096e+06  13438.340489  3.244213e-07  \n",
       "25381       361.280348  2.762521e+06   1668.854568  7.309167e-01  \n",
       "\n",
       "[25382 rows x 10 columns]"
      ]
     },
     "execution_count": 36,
     "metadata": {},
     "output_type": "execute_result"
    }
   ],
   "source": [
    "df1"
   ]
  },
  {
   "cell_type": "markdown",
   "id": "1d8888d3-98e6-42b7-8322-50697bbe07ba",
   "metadata": {},
   "source": [
    "#### --> converting fertilizer and yield to normal form from scientific form"
   ]
  },
  {
   "cell_type": "code",
   "execution_count": 37,
   "id": "4a519c89-dcce-4fc4-96d3-1fe4d468dfdb",
   "metadata": {},
   "outputs": [],
   "source": [
    "df1['Fertilizer'] = df1['Fertilizer'].apply(lambda x: '{:.2f}'.format(float(x)))\n",
    "\n"
   ]
  },
  {
   "cell_type": "code",
   "execution_count": 38,
   "id": "fa8512f4-8383-4722-85d6-ea4f96a9e612",
   "metadata": {},
   "outputs": [],
   "source": [
    "df1['Yield'] = df1['Yield'].apply(lambda x: '{:.4f}'.format(x))"
   ]
  },
  {
   "cell_type": "code",
   "execution_count": 39,
   "id": "4053d0d7-ff81-44d3-bfb3-7c646621f178",
   "metadata": {},
   "outputs": [
    {
     "data": {
      "text/html": [
       "<div>\n",
       "<style scoped>\n",
       "    .dataframe tbody tr th:only-of-type {\n",
       "        vertical-align: middle;\n",
       "    }\n",
       "\n",
       "    .dataframe tbody tr th {\n",
       "        vertical-align: top;\n",
       "    }\n",
       "\n",
       "    .dataframe thead th {\n",
       "        text-align: right;\n",
       "    }\n",
       "</style>\n",
       "<table border=\"1\" class=\"dataframe\">\n",
       "  <thead>\n",
       "    <tr style=\"text-align: right;\">\n",
       "      <th></th>\n",
       "      <th>Crop</th>\n",
       "      <th>Crop_Year</th>\n",
       "      <th>Season</th>\n",
       "      <th>State</th>\n",
       "      <th>Area</th>\n",
       "      <th>Production</th>\n",
       "      <th>Annual_Rainfall</th>\n",
       "      <th>Fertilizer</th>\n",
       "      <th>Pesticide</th>\n",
       "      <th>Yield</th>\n",
       "    </tr>\n",
       "  </thead>\n",
       "  <tbody>\n",
       "    <tr>\n",
       "      <th>0</th>\n",
       "      <td>17</td>\n",
       "      <td>2004</td>\n",
       "      <td>3</td>\n",
       "      <td>15</td>\n",
       "      <td>69400.000000</td>\n",
       "      <td>100200.000000</td>\n",
       "      <td>1052.000000</td>\n",
       "      <td>7518796.00</td>\n",
       "      <td>14574.000000</td>\n",
       "      <td>1.3139</td>\n",
       "    </tr>\n",
       "    <tr>\n",
       "      <th>1</th>\n",
       "      <td>17</td>\n",
       "      <td>2015</td>\n",
       "      <td>3</td>\n",
       "      <td>7</td>\n",
       "      <td>57421.000000</td>\n",
       "      <td>95577.000000</td>\n",
       "      <td>584.300000</td>\n",
       "      <td>9067350.11</td>\n",
       "      <td>18948.930000</td>\n",
       "      <td>1.6859</td>\n",
       "    </tr>\n",
       "    <tr>\n",
       "      <th>2</th>\n",
       "      <td>17</td>\n",
       "      <td>2016</td>\n",
       "      <td>1</td>\n",
       "      <td>28</td>\n",
       "      <td>935.000000</td>\n",
       "      <td>1214.000000</td>\n",
       "      <td>1580.900000</td>\n",
       "      <td>143288.75</td>\n",
       "      <td>327.250000</td>\n",
       "      <td>1.2960</td>\n",
       "    </tr>\n",
       "    <tr>\n",
       "      <th>3</th>\n",
       "      <td>17</td>\n",
       "      <td>2001</td>\n",
       "      <td>1</td>\n",
       "      <td>13</td>\n",
       "      <td>2437.000000</td>\n",
       "      <td>1812.000000</td>\n",
       "      <td>2946.700000</td>\n",
       "      <td>248890.81</td>\n",
       "      <td>633.620000</td>\n",
       "      <td>0.7400</td>\n",
       "    </tr>\n",
       "    <tr>\n",
       "      <th>4</th>\n",
       "      <td>17</td>\n",
       "      <td>2007</td>\n",
       "      <td>1</td>\n",
       "      <td>26</td>\n",
       "      <td>409.000000</td>\n",
       "      <td>423.000000</td>\n",
       "      <td>2831.800000</td>\n",
       "      <td>54560.60</td>\n",
       "      <td>65.440000</td>\n",
       "      <td>1.0875</td>\n",
       "    </tr>\n",
       "    <tr>\n",
       "      <th>...</th>\n",
       "      <td>...</td>\n",
       "      <td>...</td>\n",
       "      <td>...</td>\n",
       "      <td>...</td>\n",
       "      <td>...</td>\n",
       "      <td>...</td>\n",
       "      <td>...</td>\n",
       "      <td>...</td>\n",
       "      <td>...</td>\n",
       "      <td>...</td>\n",
       "    </tr>\n",
       "    <tr>\n",
       "      <th>25377</th>\n",
       "      <td>18</td>\n",
       "      <td>2019</td>\n",
       "      <td>2</td>\n",
       "      <td>0</td>\n",
       "      <td>0.010000</td>\n",
       "      <td>18434.644974</td>\n",
       "      <td>893.733236</td>\n",
       "      <td>0.01</td>\n",
       "      <td>1580.736011</td>\n",
       "      <td>1843464.4974</td>\n",
       "    </tr>\n",
       "    <tr>\n",
       "      <th>25378</th>\n",
       "      <td>18</td>\n",
       "      <td>2006</td>\n",
       "      <td>4</td>\n",
       "      <td>27</td>\n",
       "      <td>0.010000</td>\n",
       "      <td>56336.986798</td>\n",
       "      <td>566.544820</td>\n",
       "      <td>500095.68</td>\n",
       "      <td>0.010000</td>\n",
       "      <td>5633698.6798</td>\n",
       "    </tr>\n",
       "    <tr>\n",
       "      <th>25379</th>\n",
       "      <td>18</td>\n",
       "      <td>2012</td>\n",
       "      <td>4</td>\n",
       "      <td>7</td>\n",
       "      <td>219694.157535</td>\n",
       "      <td>143525.202754</td>\n",
       "      <td>451.584845</td>\n",
       "      <td>30464794.88</td>\n",
       "      <td>64245.162383</td>\n",
       "      <td>0.6533</td>\n",
       "    </tr>\n",
       "    <tr>\n",
       "      <th>25380</th>\n",
       "      <td>18</td>\n",
       "      <td>2016</td>\n",
       "      <td>1</td>\n",
       "      <td>22</td>\n",
       "      <td>30824.116478</td>\n",
       "      <td>0.010000</td>\n",
       "      <td>621.052070</td>\n",
       "      <td>4980095.58</td>\n",
       "      <td>13438.340489</td>\n",
       "      <td>0.0000</td>\n",
       "    </tr>\n",
       "    <tr>\n",
       "      <th>25381</th>\n",
       "      <td>18</td>\n",
       "      <td>2004</td>\n",
       "      <td>4</td>\n",
       "      <td>22</td>\n",
       "      <td>33687.321363</td>\n",
       "      <td>24622.625751</td>\n",
       "      <td>361.280348</td>\n",
       "      <td>2762520.61</td>\n",
       "      <td>1668.854568</td>\n",
       "      <td>0.7309</td>\n",
       "    </tr>\n",
       "  </tbody>\n",
       "</table>\n",
       "<p>25382 rows × 10 columns</p>\n",
       "</div>"
      ],
      "text/plain": [
       "       Crop  Crop_Year  Season  State           Area     Production  \\\n",
       "0        17       2004       3     15   69400.000000  100200.000000   \n",
       "1        17       2015       3      7   57421.000000   95577.000000   \n",
       "2        17       2016       1     28     935.000000    1214.000000   \n",
       "3        17       2001       1     13    2437.000000    1812.000000   \n",
       "4        17       2007       1     26     409.000000     423.000000   \n",
       "...     ...        ...     ...    ...            ...            ...   \n",
       "25377    18       2019       2      0       0.010000   18434.644974   \n",
       "25378    18       2006       4     27       0.010000   56336.986798   \n",
       "25379    18       2012       4      7  219694.157535  143525.202754   \n",
       "25380    18       2016       1     22   30824.116478       0.010000   \n",
       "25381    18       2004       4     22   33687.321363   24622.625751   \n",
       "\n",
       "       Annual_Rainfall   Fertilizer     Pesticide         Yield  \n",
       "0          1052.000000   7518796.00  14574.000000        1.3139  \n",
       "1           584.300000   9067350.11  18948.930000        1.6859  \n",
       "2          1580.900000    143288.75    327.250000        1.2960  \n",
       "3          2946.700000    248890.81    633.620000        0.7400  \n",
       "4          2831.800000     54560.60     65.440000        1.0875  \n",
       "...                ...          ...           ...           ...  \n",
       "25377       893.733236         0.01   1580.736011  1843464.4974  \n",
       "25378       566.544820    500095.68      0.010000  5633698.6798  \n",
       "25379       451.584845  30464794.88  64245.162383        0.6533  \n",
       "25380       621.052070   4980095.58  13438.340489        0.0000  \n",
       "25381       361.280348   2762520.61   1668.854568        0.7309  \n",
       "\n",
       "[25382 rows x 10 columns]"
      ]
     },
     "execution_count": 39,
     "metadata": {},
     "output_type": "execute_result"
    }
   ],
   "source": [
    "df1"
   ]
  },
  {
   "cell_type": "markdown",
   "id": "aecd2a76-cb47-44ef-aeff-9141eff28858",
   "metadata": {},
   "source": [
    "#### ✅ Feature Selection\n",
    "##### It is statistical method used to select import features based on their statistical meaning w.r.t. dependent features."
   ]
  },
  {
   "cell_type": "code",
   "execution_count": 40,
   "id": "ba963920-a979-4237-95b1-89275fce740e",
   "metadata": {},
   "outputs": [
    {
     "data": {
      "text/plain": [
       "Index(['Crop', 'Crop_Year', 'Season', 'State', 'Area', 'Production',\n",
       "       'Annual_Rainfall', 'Fertilizer', 'Pesticide', 'Yield'],\n",
       "      dtype='object')"
      ]
     },
     "execution_count": 40,
     "metadata": {},
     "output_type": "execute_result"
    }
   ],
   "source": [
    " df1.columns"
   ]
  },
  {
   "cell_type": "code",
   "execution_count": 41,
   "id": "26091507-b554-49d6-b1e1-a9b615b50b42",
   "metadata": {},
   "outputs": [],
   "source": [
    "numeric=df1[[\"Area\", \"Annual_Rainfall\", \"Fertilizer\", \"Pesticide\", \"Crop_Year\",\"Production\",\"Yield\"]]"
   ]
  },
  {
   "cell_type": "code",
   "execution_count": 42,
   "id": "dc2117ca-8200-4682-b1c8-cf6fe02395ef",
   "metadata": {},
   "outputs": [],
   "source": [
    "categorical=df1[[\"Crop\",\"Season\",\"State\"]]"
   ]
  },
  {
   "cell_type": "markdown",
   "id": "700ddd63-9028-4e52-8ca2-13cc36a52069",
   "metadata": {},
   "source": [
    "#### Performing the Pearson correlation analysis:-\n",
    "##### It measures the strength of relationship between two numeric columns. It produces a correlation coefficient that ranges from -1 to +1\n",
    "##### +1 --> means perfect postive correlation\n",
    "##### -1 --> means perfect negative correlation\n",
    "##### 0 --> means no correlation¶"
   ]
  },
  {
   "cell_type": "code",
   "execution_count": 43,
   "id": "83bb086e-88bc-4850-ba87-b7c412670f7e",
   "metadata": {},
   "outputs": [
    {
     "name": "stdout",
     "output_type": "stream",
     "text": [
      "                     Area  Annual_Rainfall  Fertilizer  Pesticide  Crop_Year  \\\n",
      "Area             1.000000        -0.056696    0.973109   0.987869  -0.039911   \n",
      "Annual_Rainfall -0.056696         1.000000   -0.069128  -0.049986  -0.017578   \n",
      "Fertilizer       0.973109        -0.069128    1.000000   0.960110  -0.007272   \n",
      "Pesticide        0.987869        -0.049986    0.960110   1.000000  -0.021233   \n",
      "Crop_Year       -0.039911        -0.017578   -0.007272  -0.021233   1.000000   \n",
      "Production       0.045679         0.044892    0.056279   0.042046   0.012777   \n",
      "Yield           -0.003504         0.005354   -0.003682  -0.003041   0.011446   \n",
      "\n",
      "                 Production     Yield  \n",
      "Area               0.045679 -0.003504  \n",
      "Annual_Rainfall    0.044892  0.005354  \n",
      "Fertilizer         0.056279 -0.003682  \n",
      "Pesticide          0.042046 -0.003041  \n",
      "Crop_Year          0.012777  0.011446  \n",
      "Production         1.000000  0.004663  \n",
      "Yield              0.004663  1.000000  \n"
     ]
    }
   ],
   "source": [
    "x=numeric.corr()\n",
    "print(x)"
   ]
  },
  {
   "cell_type": "code",
   "execution_count": 44,
   "id": "8466b3ed-81d0-4fc3-9e62-4bff0bec96b3",
   "metadata": {},
   "outputs": [
    {
     "data": {
      "text/plain": [
       "<Axes: >"
      ]
     },
     "execution_count": 44,
     "metadata": {},
     "output_type": "execute_result"
    },
    {
     "data": {
      "image/png": "[encoded data removed]",
      "text/plain": [
       "<Figure size 640x480 with 2 Axes>"
      ]
     },
     "metadata": {},
     "output_type": "display_data"
    }
   ],
   "source": [
    "import seaborn\n",
    "seaborn.heatmap(x)"
   ]
  },
  {
   "cell_type": "markdown",
   "id": "f424b8b4-7929-4886-a65e-3a9a46e385ae",
   "metadata": {},
   "source": [
    "#### ANOVA Test\n",
    "##### It is used to find the \"f-score\" that is used to check if there is any relationship between the categorical and numerical column.Columns with highest f-score are considered as best(or having best relationship with the target."
   ]
  },
  {
   "cell_type": "code",
   "execution_count": 45,
   "id": "09ba1e72-bc23-4044-967f-88360a3effed",
   "metadata": {},
   "outputs": [
    {
     "name": "stdout",
     "output_type": "stream",
     "text": [
      "[1 2]\n",
      "Index(['Crop', 'Season', 'State'], dtype='object')\n",
      "[1.1334354 1.4553874 1.1863427]\n"
     ]
    }
   ],
   "source": [
    "from sklearn.feature_selection import f_classif, SelectKBest\n",
    "select=SelectKBest(f_classif,k=2)\n",
    "column=select.fit_transform(categorical,numeric[\"Yield\"])\n",
    "selected=select.get_support(indices=True)\n",
    "print(selected)\n",
    "print(categorical.columns)\n",
    "print(select.scores_)"
   ]
  },
  {
   "cell_type": "code",
   "execution_count": 46,
   "id": "19bd554a-fcee-4832-a7d4-7e9d606ebe37",
   "metadata": {},
   "outputs": [],
   "source": [
    "#### Outlier Detection\n",
    "##### Outlier detection is the process of identifying data points that differ significantly from the rest of the data.These unusual points are called outliers.\n",
    "##### Case 1: If column is normally distributed , we apply z-score method.\n",
    "##### Case 1: If column is randomly distributed , we use DBSCAN"
   ]
  },
  {
   "cell_type": "code",
   "execution_count": 47,
   "id": "2ca3b54f-049b-45c4-8b2b-d39081275e81",
   "metadata": {},
   "outputs": [],
   "source": [
    "#numeric.columns"
   ]
  },
  {
   "cell_type": "code",
   "execution_count": 48,
   "id": "c9c73bb5-519f-4bab-825e-7b6a8aac4a5b",
   "metadata": {},
   "outputs": [],
   "source": [
    "#numeric.info()"
   ]
  },
  {
   "cell_type": "markdown",
   "id": "843a7645-5a95-4ea5-8540-1d168e8a7fab",
   "metadata": {},
   "source": [
    "####  -->  converting fertilizer datatype to float"
   ]
  },
  {
   "cell_type": "code",
   "execution_count": 49,
   "id": "611fc371-1fac-4b0f-bc19-d4441547a8cb",
   "metadata": {},
   "outputs": [
    {
     "name": "stderr",
     "output_type": "stream",
     "text": [
      "C:\\Users\\KOMAL\\AppData\\Local\\Temp\\ipykernel_25396\\4089814753.py:1: SettingWithCopyWarning: \n",
      "A value is trying to be set on a copy of a slice from a DataFrame.\n",
      "Try using .loc[row_indexer,col_indexer] = value instead\n",
      "\n",
      "See the caveats in the documentation: https://pandas.pydata.org/pandas-docs/stable/user_guide/indexing.html#returning-a-view-versus-a-copy\n",
      "  numeric[\"Fertilizer\"]=numeric[\"Fertilizer\"].astype(\"float\")\n"
     ]
    }
   ],
   "source": [
    "numeric[\"Fertilizer\"]=numeric[\"Fertilizer\"].astype(\"float\")"
   ]
  },
  {
   "cell_type": "code",
   "execution_count": 50,
   "id": "dc5c5de3-667d-403d-a4a0-74b8f1e88d71",
   "metadata": {},
   "outputs": [
    {
     "name": "stdout",
     "output_type": "stream",
     "text": [
      "<class 'pandas.core.frame.DataFrame'>\n",
      "RangeIndex: 25382 entries, 0 to 25381\n",
      "Data columns (total 7 columns):\n",
      " #   Column           Non-Null Count  Dtype  \n",
      "---  ------           --------------  -----  \n",
      " 0   Area             25382 non-null  float64\n",
      " 1   Annual_Rainfall  25382 non-null  float64\n",
      " 2   Fertilizer       25382 non-null  float64\n",
      " 3   Pesticide        25382 non-null  float64\n",
      " 4   Crop_Year        25382 non-null  int64  \n",
      " 5   Production       25382 non-null  float64\n",
      " 6   Yield            25382 non-null  object \n",
      "dtypes: float64(5), int64(1), object(1)\n",
      "memory usage: 1.4+ MB\n"
     ]
    }
   ],
   "source": [
    "numeric.info()"
   ]
  },
  {
   "cell_type": "code",
   "execution_count": 51,
   "id": "0b7e6378-22ff-4f80-82fb-6363f5384565",
   "metadata": {},
   "outputs": [
    {
     "data": {
      "image/png": "[encoded data removed]",
      "text/plain": [
       "<Figure size 1000x600 with 6 Axes>"
      ]
     },
     "metadata": {},
     "output_type": "display_data"
    }
   ],
   "source": [
    "#### Plotting histogram to check the distribution of data for each column\n",
    "import matplotlib.pyplot as plt\n",
    "plt.figure(figsize=(10,6))\n",
    "plt.subplot(2,3,1)\n",
    "plt.hist(numeric[\"Area\"],color=\"lightblue\",edgecolor=\"black\")\n",
    "plt.title(\"Distribution of Area\")\n",
    "\n",
    "plt.subplot(2,3,2)\n",
    "plt.hist(numeric[\"Annual_Rainfall\"],color=\"lightpink\",edgecolor=\"black\")\n",
    "plt.title(\"Distribution of Annual Rainfall\")\n",
    "\n",
    "plt.subplot(2,3,3)\n",
    "plt.hist(numeric[\"Fertilizer\"],color=\"Orange\",edgecolor=\"black\")\n",
    "plt.title(\"Distribution of Fertilizer\")\n",
    "\n",
    "plt.subplot(2,3,4)\n",
    "plt.hist(numeric[\"Pesticide\"],color=\"green\",edgecolor=\"black\")\n",
    "plt.title(\"Distribution of Pesticidel\")\n",
    "\n",
    "plt.subplot(2,3,5)\n",
    "plt.hist(numeric[\"Crop_Year\"],color=\"yellow\",edgecolor=\"black\")\n",
    "plt.title(\"Distribution of Crop_Year\")\n",
    "\n",
    "plt.subplot(2,3,6)\n",
    "plt.hist(numeric[\"Production\"],color=\"blue\",edgecolor=\"black\")\n",
    "plt.title(\"Distribution of Production\")\n",
    "\n",
    "\n",
    "plt.subplots_adjust(hspace=0.5,wspace=0.5)\n",
    "plt.suptitle(\"Distribution of Data\")\n",
    "plt.show()"
   ]
  },
  {
   "cell_type": "markdown",
   "id": "bbf261f6-2e07-4c13-8f51-f5f7899d8b9f",
   "metadata": {},
   "source": [
    "##### here column--> Area,Annual Rainfall ,Pesticide is basically having normal distribution , so we will use Z-score method"
   ]
  },
  {
   "cell_type": "code",
   "execution_count": 52,
   "id": "a1beb4cf-46d0-4eaa-9b77-558d2c6f0e9c",
   "metadata": {},
   "outputs": [
    {
     "data": {
      "text/plain": [
       "((25382, 7), (25382, 3))"
      ]
     },
     "execution_count": 52,
     "metadata": {},
     "output_type": "execute_result"
    }
   ],
   "source": [
    "numeric.shape, categorical.shape"
   ]
  },
  {
   "cell_type": "code",
   "execution_count": 53,
   "id": "f41ac8ee-c368-4979-b390-cdf05b1f5c96",
   "metadata": {},
   "outputs": [],
   "source": [
    "# Confirm both have same index\n",
    "# print(numeric.index.equals(categorical.index))  # Should be True\n",
    "\n",
    "# # Outlier mask\n",
    "# def outlier_mask(x):\n",
    "#     mean = x.mean()\n",
    "#     std = x.std()\n",
    "#     z = (x - mean) / std\n",
    "#     return (z > -3) & (z < 3)\n",
    "\n",
    "# a = outlier_mask(numeric[\"Area\"])\n",
    "# r = outlier_mask(numeric[\"Annual_Rainfall\"])\n",
    "# f = outlier_mask(numeric[\"Fertilizer\"])\n",
    "# p = outlier_mask(numeric[\"Pesticide\"])\n",
    "\n",
    "# non_outlier = a & f & p & r\n",
    "\n",
    "# # ✅ Apply mask after confirming same index\n",
    "# numeric_1 = numeric[non_outlier]\n",
    "# categorical_1 = categorical[non_outlier]\n",
    "\n",
    "# print(numeric_1.shape)\n",
    "# print(categorical_1.shape)\n"
   ]
  },
  {
   "cell_type": "code",
   "execution_count": 54,
   "id": "24de76ca-33eb-499f-8386-fc6b53d0ca88",
   "metadata": {},
   "outputs": [],
   "source": [
    "#numeric_1.shape"
   ]
  },
  {
   "cell_type": "code",
   "execution_count": 55,
   "id": "68288808-7335-493b-b687-266c4fed1f8c",
   "metadata": {},
   "outputs": [],
   "source": [
    "#categorical_1.shape"
   ]
  },
  {
   "cell_type": "code",
   "execution_count": 56,
   "id": "e40cd583-6d76-4a37-855d-4036e7a2cf4e",
   "metadata": {},
   "outputs": [],
   "source": [
    "#### ✅ For randomly Distributed column that is Crop Year we will use DBSCAN\n"
   ]
  },
  {
   "cell_type": "code",
   "execution_count": 57,
   "id": "170dbc96-b905-42cd-81ad-5310dec48ec4",
   "metadata": {},
   "outputs": [],
   "source": [
    "#numeric_1.shape"
   ]
  },
  {
   "cell_type": "code",
   "execution_count": 58,
   "id": "b1228a33-abeb-47e2-bd64-eb3de4d22f3f",
   "metadata": {},
   "outputs": [],
   "source": [
    "# from sklearn.preprocessing import MinMaxScaler\n",
    "# data=numeric_1[[\"Crop_Year\",\"Production\"]]\n",
    "# scaler= MinMaxScaler()\n",
    "# data=scaler.fit_transform(data)"
   ]
  },
  {
   "cell_type": "code",
   "execution_count": 59,
   "id": "b6d1c9c9-96ec-4e9d-8367-ebe1135f399e",
   "metadata": {},
   "outputs": [],
   "source": [
    "# from sklearn.neighbors import NearestNeighbors\n",
    "# from kneed import KneeLocator\n",
    "# import numpy as np\n",
    "# neighbors = NearestNeighbors(n_neighbors=10)  \n",
    "# neighbors_fit = neighbors.fit(data)\n",
    "# distances, indices = neighbors_fit.kneighbors(data)\n",
    "\n",
    "# # Step 2: Sort the distances for each point and get the distance of the 4th neighbor (k=4)\n",
    "# distances = np.sort(distances[:, 1], axis=0)  # 4th neighbor\n",
    "# plt.plot(distances)\n",
    "# plt.title('k-distance Graph')\n",
    "# plt.xlabel('Data Points')\n",
    "# plt.ylabel('Distance to 4th nearest neighbor')\n",
    "# plt.show()\n",
    "\n",
    "# # Step 3: Apply Kneedle to find the \"elbow\" point\n",
    "# kneedle = KneeLocator(range(1, len(distances) + 1), distances, curve='convex', direction='increasing')\n",
    "\n",
    "# # The elbow point (optimal eps) can be found here\n",
    "# optimal_eps = distances[kneedle.elbow]\n",
    "\n",
    "# print(f\"Optimal eps value: {optimal_eps}\")"
   ]
  },
  {
   "cell_type": "code",
   "execution_count": 60,
   "id": "76f2c54e-e68c-40d5-a639-d85589e0d655",
   "metadata": {},
   "outputs": [],
   "source": [
    "# import numpy as np\n",
    "# from sklearn.cluster import DBSCAN\n",
    "# dbscan=DBSCAN(eps=0.00738,min_samples=15)  # Apply DBSCAN clustering\n",
    "# dbscan.fit_predict(data)\n",
    "# labels=dbscan.labels_    # Get labels assigned to each data point\n",
    "# print(np.unique(labels))   # This shows the distinct clusters and outliers\n",
    "\n",
    "# print(np.unique(labels,return_counts=True)) # Shows how many points are in each cluster or marked as noise\n",
    "\n",
    "# # -1 → Noise / Outliers\n",
    "# # 0, 1, 2, ... → Cluster labels"
   ]
  },
  {
   "cell_type": "code",
   "execution_count": 61,
   "id": "4f209bc6-5a92-463d-80f3-41f634d54e51",
   "metadata": {},
   "outputs": [],
   "source": [
    "# numeric_1.shape,categorical_1.shape"
   ]
  },
  {
   "cell_type": "code",
   "execution_count": 62,
   "id": "8a3349bb-2fe0-45af-a4ce-194a4f1e0612",
   "metadata": {},
   "outputs": [],
   "source": [
    "# f=labels!=-1  # filtering rows whose label=-1 i.e. dropping them\n",
    "# numeric_1=numeric_1[f]\n",
    "# categorical_1=categorical_1[f]\n",
    "# numeric_1.shape,categorical_1.shape"
   ]
  },
  {
   "cell_type": "markdown",
   "id": "d46441da-ccb2-4745-aa04-5b26a9cf93d8",
   "metadata": {},
   "source": [
    "#### Concatenating the numeric and categorical column"
   ]
  },
  {
   "cell_type": "code",
   "execution_count": 63,
   "id": "d629ac61-7535-4a5a-9fc8-2f132d59facf",
   "metadata": {},
   "outputs": [
    {
     "data": {
      "text/html": [
       "<div>\n",
       "<style scoped>\n",
       "    .dataframe tbody tr th:only-of-type {\n",
       "        vertical-align: middle;\n",
       "    }\n",
       "\n",
       "    .dataframe tbody tr th {\n",
       "        vertical-align: top;\n",
       "    }\n",
       "\n",
       "    .dataframe thead th {\n",
       "        text-align: right;\n",
       "    }\n",
       "</style>\n",
       "<table border=\"1\" class=\"dataframe\">\n",
       "  <thead>\n",
       "    <tr style=\"text-align: right;\">\n",
       "      <th></th>\n",
       "      <th>Area</th>\n",
       "      <th>Annual_Rainfall</th>\n",
       "      <th>Fertilizer</th>\n",
       "      <th>Pesticide</th>\n",
       "      <th>Crop_Year</th>\n",
       "      <th>Production</th>\n",
       "      <th>Yield</th>\n",
       "      <th>Crop</th>\n",
       "      <th>Season</th>\n",
       "      <th>State</th>\n",
       "    </tr>\n",
       "  </thead>\n",
       "  <tbody>\n",
       "    <tr>\n",
       "      <th>0</th>\n",
       "      <td>69400.000000</td>\n",
       "      <td>1052.000000</td>\n",
       "      <td>7518796.00</td>\n",
       "      <td>14574.000000</td>\n",
       "      <td>2004</td>\n",
       "      <td>100200.000000</td>\n",
       "      <td>1.3139</td>\n",
       "      <td>17</td>\n",
       "      <td>3</td>\n",
       "      <td>15</td>\n",
       "    </tr>\n",
       "    <tr>\n",
       "      <th>1</th>\n",
       "      <td>57421.000000</td>\n",
       "      <td>584.300000</td>\n",
       "      <td>9067350.11</td>\n",
       "      <td>18948.930000</td>\n",
       "      <td>2015</td>\n",
       "      <td>95577.000000</td>\n",
       "      <td>1.6859</td>\n",
       "      <td>17</td>\n",
       "      <td>3</td>\n",
       "      <td>7</td>\n",
       "    </tr>\n",
       "    <tr>\n",
       "      <th>2</th>\n",
       "      <td>935.000000</td>\n",
       "      <td>1580.900000</td>\n",
       "      <td>143288.75</td>\n",
       "      <td>327.250000</td>\n",
       "      <td>2016</td>\n",
       "      <td>1214.000000</td>\n",
       "      <td>1.2960</td>\n",
       "      <td>17</td>\n",
       "      <td>1</td>\n",
       "      <td>28</td>\n",
       "    </tr>\n",
       "    <tr>\n",
       "      <th>3</th>\n",
       "      <td>2437.000000</td>\n",
       "      <td>2946.700000</td>\n",
       "      <td>248890.81</td>\n",
       "      <td>633.620000</td>\n",
       "      <td>2001</td>\n",
       "      <td>1812.000000</td>\n",
       "      <td>0.7400</td>\n",
       "      <td>17</td>\n",
       "      <td>1</td>\n",
       "      <td>13</td>\n",
       "    </tr>\n",
       "    <tr>\n",
       "      <th>4</th>\n",
       "      <td>409.000000</td>\n",
       "      <td>2831.800000</td>\n",
       "      <td>54560.60</td>\n",
       "      <td>65.440000</td>\n",
       "      <td>2007</td>\n",
       "      <td>423.000000</td>\n",
       "      <td>1.0875</td>\n",
       "      <td>17</td>\n",
       "      <td>1</td>\n",
       "      <td>26</td>\n",
       "    </tr>\n",
       "    <tr>\n",
       "      <th>...</th>\n",
       "      <td>...</td>\n",
       "      <td>...</td>\n",
       "      <td>...</td>\n",
       "      <td>...</td>\n",
       "      <td>...</td>\n",
       "      <td>...</td>\n",
       "      <td>...</td>\n",
       "      <td>...</td>\n",
       "      <td>...</td>\n",
       "      <td>...</td>\n",
       "    </tr>\n",
       "    <tr>\n",
       "      <th>25377</th>\n",
       "      <td>0.010000</td>\n",
       "      <td>893.733236</td>\n",
       "      <td>0.01</td>\n",
       "      <td>1580.736011</td>\n",
       "      <td>2019</td>\n",
       "      <td>18434.644974</td>\n",
       "      <td>1843464.4974</td>\n",
       "      <td>18</td>\n",
       "      <td>2</td>\n",
       "      <td>0</td>\n",
       "    </tr>\n",
       "    <tr>\n",
       "      <th>25378</th>\n",
       "      <td>0.010000</td>\n",
       "      <td>566.544820</td>\n",
       "      <td>500095.68</td>\n",
       "      <td>0.010000</td>\n",
       "      <td>2006</td>\n",
       "      <td>56336.986798</td>\n",
       "      <td>5633698.6798</td>\n",
       "      <td>18</td>\n",
       "      <td>4</td>\n",
       "      <td>27</td>\n",
       "    </tr>\n",
       "    <tr>\n",
       "      <th>25379</th>\n",
       "      <td>219694.157535</td>\n",
       "      <td>451.584845</td>\n",
       "      <td>30464794.88</td>\n",
       "      <td>64245.162383</td>\n",
       "      <td>2012</td>\n",
       "      <td>143525.202754</td>\n",
       "      <td>0.6533</td>\n",
       "      <td>18</td>\n",
       "      <td>4</td>\n",
       "      <td>7</td>\n",
       "    </tr>\n",
       "    <tr>\n",
       "      <th>25380</th>\n",
       "      <td>30824.116478</td>\n",
       "      <td>621.052070</td>\n",
       "      <td>4980095.58</td>\n",
       "      <td>13438.340489</td>\n",
       "      <td>2016</td>\n",
       "      <td>0.010000</td>\n",
       "      <td>0.0000</td>\n",
       "      <td>18</td>\n",
       "      <td>1</td>\n",
       "      <td>22</td>\n",
       "    </tr>\n",
       "    <tr>\n",
       "      <th>25381</th>\n",
       "      <td>33687.321363</td>\n",
       "      <td>361.280348</td>\n",
       "      <td>2762520.61</td>\n",
       "      <td>1668.854568</td>\n",
       "      <td>2004</td>\n",
       "      <td>24622.625751</td>\n",
       "      <td>0.7309</td>\n",
       "      <td>18</td>\n",
       "      <td>4</td>\n",
       "      <td>22</td>\n",
       "    </tr>\n",
       "  </tbody>\n",
       "</table>\n",
       "<p>25382 rows × 10 columns</p>\n",
       "</div>"
      ],
      "text/plain": [
       "                Area  Annual_Rainfall   Fertilizer     Pesticide  Crop_Year  \\\n",
       "0       69400.000000      1052.000000   7518796.00  14574.000000       2004   \n",
       "1       57421.000000       584.300000   9067350.11  18948.930000       2015   \n",
       "2         935.000000      1580.900000    143288.75    327.250000       2016   \n",
       "3        2437.000000      2946.700000    248890.81    633.620000       2001   \n",
       "4         409.000000      2831.800000     54560.60     65.440000       2007   \n",
       "...              ...              ...          ...           ...        ...   \n",
       "25377       0.010000       893.733236         0.01   1580.736011       2019   \n",
       "25378       0.010000       566.544820    500095.68      0.010000       2006   \n",
       "25379  219694.157535       451.584845  30464794.88  64245.162383       2012   \n",
       "25380   30824.116478       621.052070   4980095.58  13438.340489       2016   \n",
       "25381   33687.321363       361.280348   2762520.61   1668.854568       2004   \n",
       "\n",
       "          Production         Yield  Crop  Season  State  \n",
       "0      100200.000000        1.3139    17       3     15  \n",
       "1       95577.000000        1.6859    17       3      7  \n",
       "2        1214.000000        1.2960    17       1     28  \n",
       "3        1812.000000        0.7400    17       1     13  \n",
       "4         423.000000        1.0875    17       1     26  \n",
       "...              ...           ...   ...     ...    ...  \n",
       "25377   18434.644974  1843464.4974    18       2      0  \n",
       "25378   56336.986798  5633698.6798    18       4     27  \n",
       "25379  143525.202754        0.6533    18       4      7  \n",
       "25380       0.010000        0.0000    18       1     22  \n",
       "25381   24622.625751        0.7309    18       4     22  \n",
       "\n",
       "[25382 rows x 10 columns]"
      ]
     },
     "execution_count": 63,
     "metadata": {},
     "output_type": "execute_result"
    }
   ],
   "source": [
    "df_final=pd.concat((numeric,categorical),axis=1)\n",
    "df_final"
   ]
  },
  {
   "cell_type": "code",
   "execution_count": 64,
   "id": "2267f4bd-b9c3-4463-94f1-832efbb1fad5",
   "metadata": {},
   "outputs": [],
   "source": [
    "df_final=df_final.drop(columns=\"Yield\",axis=1)"
   ]
  },
  {
   "cell_type": "code",
   "execution_count": 65,
   "id": "b741d0f2-0f99-4eea-ae0c-45b59fb706f9",
   "metadata": {},
   "outputs": [
    {
     "data": {
      "text/plain": [
       "0        100200.000000\n",
       "1         95577.000000\n",
       "2          1214.000000\n",
       "3          1812.000000\n",
       "4           423.000000\n",
       "             ...      \n",
       "25377     18434.644974\n",
       "25378     56336.986798\n",
       "25379    143525.202754\n",
       "25380         0.010000\n",
       "25381     24622.625751\n",
       "Name: Production, Length: 25382, dtype: float64"
      ]
     },
     "execution_count": 65,
     "metadata": {},
     "output_type": "execute_result"
    }
   ],
   "source": [
    "x=df_final.drop(columns=\"Production\",axis=1)  #independent feature\n",
    "x\n",
    "y=df_final[\"Production\"] #dependent feature\n",
    "y"
   ]
  },
  {
   "cell_type": "markdown",
   "id": "edf0e96d-04e1-4254-915e-30d8d0a123df",
   "metadata": {},
   "source": [
    "#### Applying SCALING --> \n",
    "##### It is the process of adjusting the range of feature values so that they are on a similar scale."
   ]
  },
  {
   "cell_type": "code",
   "execution_count": 66,
   "id": "2f38b8ab-63ae-4357-a80c-dd53657e78c3",
   "metadata": {},
   "outputs": [
    {
     "data": {
      "text/plain": [
       "array([[-0.08162373, -0.47078918, -0.11150601, ..., -0.51617029,\n",
       "         0.61410992,  0.0915992 ],\n",
       "       [-0.09510777, -1.02313847, -0.09606868, ..., -0.51617029,\n",
       "         0.61410992, -0.79868259],\n",
       "       [-0.15869067,  0.15383673, -0.18503148, ..., -0.51617029,\n",
       "        -0.94673101,  1.53830711],\n",
       "       ...,\n",
       "       [ 0.0875534 , -1.17987382,  0.11723967, ..., -0.44535249,\n",
       "         1.39453039, -0.79868259],\n",
       "       [-0.12504629, -0.97973462, -0.13681399, ..., -0.44535249,\n",
       "        -0.94673101,  0.87059577],\n",
       "       [-0.12182335, -1.28652258, -0.1589207 , ..., -0.44535249,\n",
       "         1.39453039,  0.87059577]])"
      ]
     },
     "execution_count": 66,
     "metadata": {},
     "output_type": "execute_result"
    }
   ],
   "source": [
    "from sklearn.preprocessing import StandardScaler\n",
    "s=StandardScaler()\n",
    "x=s.fit_transform(x)\n",
    "x"
   ]
  },
  {
   "cell_type": "markdown",
   "id": "45ae8bfb-220a-4e3d-a9e5-7cd79d690272",
   "metadata": {},
   "source": [
    "#### Splitting data to training and testing\n",
    "##### --> It's the process of dividing your dataset into two parts:\n",
    "##### Training Set: Used to train the model (the model \"learns\" from this).\n",
    "##### Test Set: Used to evaluate the model's performance on unseen data.\n"
   ]
  },
  {
   "cell_type": "code",
   "execution_count": 67,
   "id": "86014932-2be2-40ce-a004-5bb8a5097675",
   "metadata": {},
   "outputs": [],
   "source": [
    "\n",
    "from sklearn.model_selection import train_test_split\n",
    "x_train,x_test,y_train,y_test=train_test_split(x,y,test_size=0.2,random_state=1)"
   ]
  },
  {
   "cell_type": "code",
   "execution_count": 68,
   "id": "11357360-649e-4a9d-8702-f1795f88a0ba",
   "metadata": {},
   "outputs": [
    {
     "data": {
      "text/plain": [
       "array([[-0.15194694,  0.12483548, -0.18645991, ..., -1.72007286,\n",
       "         1.39453039,  1.64959233],\n",
       "       [-0.13010504,  0.30807409, -0.15802279, ...,  0.68773228,\n",
       "        -0.16631055,  0.5367401 ],\n",
       "       [-0.15875483, -0.8316999 , -0.18513861, ..., -1.64925506,\n",
       "        -0.16631055,  1.20445144],\n",
       "       ...,\n",
       "       [-0.09220474, -0.5691657 , -0.09626158, ..., -1.57843726,\n",
       "        -0.94673101, -1.57767916],\n",
       "       [-0.12503291, -0.98522867, -0.1400548 , ...,  1.46672806,\n",
       "        -0.16631055,  1.42702189],\n",
       "       [ 0.74525795, -0.90114215,  1.02346213, ..., -0.51617029,\n",
       "        -0.94673101, -1.57767916]])"
      ]
     },
     "execution_count": 68,
     "metadata": {},
     "output_type": "execute_result"
    }
   ],
   "source": [
    "x_train"
   ]
  },
  {
   "cell_type": "markdown",
   "id": "5b552732-5c92-4ca3-9846-2798e4f563a1",
   "metadata": {},
   "source": [
    "#### Step 4: M0DEL SELECTION"
   ]
  },
  {
   "cell_type": "markdown",
   "id": "054e1f86-fecb-49da-949b-6a61ac86b564",
   "metadata": {},
   "source": [
    "#### 1. Decision Tree"
   ]
  },
  {
   "cell_type": "code",
   "execution_count": 70,
   "id": "9220b8d3-bc72-40a6-8b7a-8a6f4472c4ce",
   "metadata": {},
   "outputs": [
    {
     "name": "stdout",
     "output_type": "stream",
     "text": [
      "[8652.5873039  8652.5873039   700.4471231  ... 3089.78882642 8652.5873039\n",
      "  700.4471231 ]\n"
     ]
    }
   ],
   "source": [
    "from sklearn.tree import DecisionTreeRegressor\n",
    "tree=DecisionTreeRegressor(max_depth=10,min_samples_split=3)  ### no. of levels to split the data into.\n",
    "tree.fit(x_train,y_train)\n",
    "y_pred=tree.predict(x_test)\n",
    "print(y_pred)"
   ]
  },
  {
   "cell_type": "code",
   "execution_count": 71,
   "id": "bbf7bfa6-8036-4a40-92b0-02c0d689597d",
   "metadata": {},
   "outputs": [
    {
     "name": "stdout",
     "output_type": "stream",
     "text": [
      "R² Score for Decision Tree Model: 0.9919424958064798\n",
      "Mean Squared Error (MSE) for Decision Tree Model: 1107577079699292.0\n",
      "Mean Absolute Error (MAE) for Decision Tree Model: 2534733.7563310075\n",
      "Root Mean Squared Error (RMSE) for Decision Tree Model: 33280280.64333731\n"
     ]
    }
   ],
   "source": [
    "from sklearn.metrics import r2_score, mean_squared_error, mean_absolute_error\n",
    "import numpy as np\n",
    "\n",
    "r2 = r2_score(y_test, y_pred)\n",
    "mse = mean_squared_error(y_test, y_pred)\n",
    "mae = mean_absolute_error(y_test, y_pred)\n",
    "rmse = np.sqrt(mse)\n",
    "\n",
    "print(\"R² Score for Decision Tree Model:\", r2)\n",
    "print(\"Mean Squared Error (MSE) for Decision Tree Model:\", mse)\n",
    "print(\"Mean Absolute Error (MAE) for Decision Tree Model:\", mae)\n",
    "print(\"Root Mean Squared Error (RMSE) for Decision Tree Model:\", rmse)\n"
   ]
  },
  {
   "cell_type": "markdown",
   "id": "cfcab359-e4f2-42fc-ae8f-fc4ae53d7db7",
   "metadata": {},
   "source": [
    "#### 2. Random Forest Regressor"
   ]
  },
  {
   "cell_type": "code",
   "execution_count": 72,
   "id": "07bd0052-c80a-41f3-bd20-470180d054f6",
   "metadata": {},
   "outputs": [
    {
     "name": "stdout",
     "output_type": "stream",
     "text": [
      "R² Score for Random Forest Model: 0.996278393731127\n",
      "Mean Squared Error (MSE) for Random Forest Model: 511568558212326.3\n",
      "Mean Absolute Error (MAE) for Random Forest Model: 2373353.2387533835\n",
      "Root Mean Squared Error (RMSE) for Random Forest Model: 22617881.382046513\n"
     ]
    }
   ],
   "source": [
    "from sklearn.ensemble import RandomForestRegressor\n",
    "\n",
    "rf = RandomForestRegressor(n_estimators=100, max_depth=10, min_samples_split=3, random_state=42)\n",
    "rf.fit(x_train, y_train)\n",
    "y_pred_rf = rf.predict(x_test)\n",
    "\n",
    "# Evaluate the model\n",
    "r2_rf = r2_score(y_test, y_pred_rf)\n",
    "mse_rf = mean_squared_error(y_test, y_pred_rf)\n",
    "mae_rf = mean_absolute_error(y_test, y_pred_rf)\n",
    "rmse_rf = np.sqrt(mse_rf)\n",
    "\n",
    "# Print evaluation metrics\n",
    "print(\"R² Score for Random Forest Model:\", r2_rf)\n",
    "print(\"Mean Squared Error (MSE) for Random Forest Model:\", mse_rf)\n",
    "print(\"Mean Absolute Error (MAE) for Random Forest Model:\", mae_rf)\n",
    "print(\"Root Mean Squared Error (RMSE) for Random Forest Model:\", rmse_rf)\n"
   ]
  },
  {
   "cell_type": "markdown",
   "id": "9be6d0e1-07bc-4285-a15e-087352417304",
   "metadata": {},
   "source": [
    "#### 3. KNN( K- Nearest Neighbors)"
   ]
  },
  {
   "cell_type": "code",
   "execution_count": 73,
   "id": "86cf9202-85f2-4b6d-954f-3e99434a546d",
   "metadata": {},
   "outputs": [
    {
     "name": "stdout",
     "output_type": "stream",
     "text": [
      "R² Score for KNN Model: 0.9561493820488478\n",
      "Mean Squared Error (MSE) for KNN Model: 6027665416842629.0\n",
      "Mean Absolute Error (MAE) for KNN Model: 7691994.196823876\n",
      "Root Mean Squared Error (RMSE) for KNN Model: 77638041.04202159\n"
     ]
    }
   ],
   "source": [
    "from sklearn.neighbors import KNeighborsRegressor\n",
    "knn = KNeighborsRegressor(n_neighbors=10)\n",
    "knn.fit(x_train, y_train)\n",
    "\n",
    "# Predict on the test set\n",
    "y_pred_knn = knn.predict(x_test)\n",
    "\n",
    "# Evaluate the model\n",
    "r2_knn = r2_score(y_test, y_pred_knn)\n",
    "mse_knn = mean_squared_error(y_test, y_pred_knn)\n",
    "mae_knn = mean_absolute_error(y_test, y_pred_knn)\n",
    "rmse_knn = np.sqrt(mse_knn)\n",
    "\n",
    "# Print evaluation metrics\n",
    "print(\"R² Score for KNN Model:\", r2_knn)\n",
    "print(\"Mean Squared Error (MSE) for KNN Model:\", mse_knn)\n",
    "print(\"Mean Absolute Error (MAE) for KNN Model:\", mae_knn)\n",
    "print(\"Root Mean Squared Error (RMSE) for KNN Model:\", rmse_knn)\n"
   ]
  },
  {
   "cell_type": "markdown",
   "id": "54a29fb5-84c3-4a51-91eb-73bc5aef0c2a",
   "metadata": {},
   "source": [
    "#### We found that random forest regressor is giving us higher accuracy, so we will use random forest model"
   ]
  },
  {
   "cell_type": "markdown",
   "id": "56626505-6afd-4eb0-9aa7-83fa18f9e952",
   "metadata": {},
   "source": [
    "#### STEP 5: HYPERPARAMTER TUNNING\n",
    "##### Hyperparameter tuning is the process of optimizing the configuration settings (called hyperparameters) of a machine learning model to get the best performance (like highest accuracy or lowest error).\n",
    "##### As we are already getting highest accuracy so we will perform hyperparameter manually.\n"
   ]
  },
  {
   "cell_type": "code",
   "execution_count": 74,
   "id": "26c2f37c-fd3d-429e-88f0-154b9cd2209b",
   "metadata": {},
   "outputs": [],
   "source": [
    "model1=RandomForestRegressor(n_estimators=100, min_samples_split=5, max_depth=10)"
   ]
  },
  {
   "cell_type": "code",
   "execution_count": 75,
   "id": "7e9da977-cfe5-4365-9623-90709fbb3d8f",
   "metadata": {},
   "outputs": [
    {
     "data": {
      "text/html": [
       "<style>#sk-container-id-1 {\n",
       "  /* Definition of color scheme common for light and dark mode */\n",
       "  --sklearn-color-text: black;\n",
       "  --sklearn-color-line: gray;\n",
       "  /* Definition of color scheme for unfitted estimators */\n",
       "  --sklearn-color-unfitted-level-0: #fff5e6;\n",
       "  --sklearn-color-unfitted-level-1: #f6e4d2;\n",
       "  --sklearn-color-unfitted-level-2: #ffe0b3;\n",
       "  --sklearn-color-unfitted-level-3: chocolate;\n",
       "  /* Definition of color scheme for fitted estimators */\n",
       "  --sklearn-color-fitted-level-0: #f0f8ff;\n",
       "  --sklearn-color-fitted-level-1: #d4ebff;\n",
       "  --sklearn-color-fitted-level-2: #b3dbfd;\n",
       "  --sklearn-color-fitted-level-3: cornflowerblue;\n",
       "\n",
       "  /* Specific color for light theme */\n",
       "  --sklearn-color-text-on-default-background: var(--sg-text-color, var(--theme-code-foreground, var(--jp-content-font-color1, black)));\n",
       "  --sklearn-color-background: var(--sg-background-color, var(--theme-background, var(--jp-layout-color0, white)));\n",
       "  --sklearn-color-border-box: var(--sg-text-color, var(--theme-code-foreground, var(--jp-content-font-color1, black)));\n",
       "  --sklearn-color-icon: #696969;\n",
       "\n",
       "  @media (prefers-color-scheme: dark) {\n",
       "    /* Redefinition of color scheme for dark theme */\n",
       "    --sklearn-color-text-on-default-background: var(--sg-text-color, var(--theme-code-foreground, var(--jp-content-font-color1, white)));\n",
       "    --sklearn-color-background: var(--sg-background-color, var(--theme-background, var(--jp-layout-color0, #111)));\n",
       "    --sklearn-color-border-box: var(--sg-text-color, var(--theme-code-foreground, var(--jp-content-font-color1, white)));\n",
       "    --sklearn-color-icon: #878787;\n",
       "  }\n",
       "}\n",
       "\n",
       "#sk-container-id-1 {\n",
       "  color: var(--sklearn-color-text);\n",
       "}\n",
       "\n",
       "#sk-container-id-1 pre {\n",
       "  padding: 0;\n",
       "}\n",
       "\n",
       "#sk-container-id-1 input.sk-hidden--visually {\n",
       "  border: 0;\n",
       "  clip: rect(1px 1px 1px 1px);\n",
       "  clip: rect(1px, 1px, 1px, 1px);\n",
       "  height: 1px;\n",
       "  margin: -1px;\n",
       "  overflow: hidden;\n",
       "  padding: 0;\n",
       "  position: absolute;\n",
       "  width: 1px;\n",
       "}\n",
       "\n",
       "#sk-container-id-1 div.sk-dashed-wrapped {\n",
       "  border: 1px dashed var(--sklearn-color-line);\n",
       "  margin: 0 0.4em 0.5em 0.4em;\n",
       "  box-sizing: border-box;\n",
       "  padding-bottom: 0.4em;\n",
       "  background-color: var(--sklearn-color-background);\n",
       "}\n",
       "\n",
       "#sk-container-id-1 div.sk-container {\n",
       "  /* jupyter's `normalize.less` sets `[hidden] { display: none; }`\n",
       "     but bootstrap.min.css set `[hidden] { display: none !important; }`\n",
       "     so we also need the `!important` here to be able to override the\n",
       "     default hidden behavior on the sphinx rendered scikit-learn.org.\n",
       "     See: https://github.com/scikit-learn/scikit-learn/issues/21755 */\n",
       "  display: inline-block !important;\n",
       "  position: relative;\n",
       "}\n",
       "\n",
       "#sk-container-id-1 div.sk-text-repr-fallback {\n",
       "  display: none;\n",
       "}\n",
       "\n",
       "div.sk-parallel-item,\n",
       "div.sk-serial,\n",
       "div.sk-item {\n",
       "  /* draw centered vertical line to link estimators */\n",
       "  background-image: linear-gradient(var(--sklearn-color-text-on-default-background), var(--sklearn-color-text-on-default-background));\n",
       "  background-size: 2px 100%;\n",
       "  background-repeat: no-repeat;\n",
       "  background-position: center center;\n",
       "}\n",
       "\n",
       "/* Parallel-specific style estimator block */\n",
       "\n",
       "#sk-container-id-1 div.sk-parallel-item::after {\n",
       "  content: \"\";\n",
       "  width: 100%;\n",
       "  border-bottom: 2px solid var(--sklearn-color-text-on-default-background);\n",
       "  flex-grow: 1;\n",
       "}\n",
       "\n",
       "#sk-container-id-1 div.sk-parallel {\n",
       "  display: flex;\n",
       "  align-items: stretch;\n",
       "  justify-content: center;\n",
       "  background-color: var(--sklearn-color-background);\n",
       "  position: relative;\n",
       "}\n",
       "\n",
       "#sk-container-id-1 div.sk-parallel-item {\n",
       "  display: flex;\n",
       "  flex-direction: column;\n",
       "}\n",
       "\n",
       "#sk-container-id-1 div.sk-parallel-item:first-child::after {\n",
       "  align-self: flex-end;\n",
       "  width: 50%;\n",
       "}\n",
       "\n",
       "#sk-container-id-1 div.sk-parallel-item:last-child::after {\n",
       "  align-self: flex-start;\n",
       "  width: 50%;\n",
       "}\n",
       "\n",
       "#sk-container-id-1 div.sk-parallel-item:only-child::after {\n",
       "  width: 0;\n",
       "}\n",
       "\n",
       "/* Serial-specific style estimator block */\n",
       "\n",
       "#sk-container-id-1 div.sk-serial {\n",
       "  display: flex;\n",
       "  flex-direction: column;\n",
       "  align-items: center;\n",
       "  background-color: var(--sklearn-color-background);\n",
       "  padding-right: 1em;\n",
       "  padding-left: 1em;\n",
       "}\n",
       "\n",
       "\n",
       "/* Toggleable style: style used for estimator/Pipeline/ColumnTransformer box that is\n",
       "clickable and can be expanded/collapsed.\n",
       "- Pipeline and ColumnTransformer use this feature and define the default style\n",
       "- Estimators will overwrite some part of the style using the `sk-estimator` class\n",
       "*/\n",
       "\n",
       "/* Pipeline and ColumnTransformer style (default) */\n",
       "\n",
       "#sk-container-id-1 div.sk-toggleable {\n",
       "  /* Default theme specific background. It is overwritten whether we have a\n",
       "  specific estimator or a Pipeline/ColumnTransformer */\n",
       "  background-color: var(--sklearn-color-background);\n",
       "}\n",
       "\n",
       "/* Toggleable label */\n",
       "#sk-container-id-1 label.sk-toggleable__label {\n",
       "  cursor: pointer;\n",
       "  display: block;\n",
       "  width: 100%;\n",
       "  margin-bottom: 0;\n",
       "  padding: 0.5em;\n",
       "  box-sizing: border-box;\n",
       "  text-align: center;\n",
       "}\n",
       "\n",
       "#sk-container-id-1 label.sk-toggleable__label-arrow:before {\n",
       "  /* Arrow on the left of the label */\n",
       "  content: \"▸\";\n",
       "  float: left;\n",
       "  margin-right: 0.25em;\n",
       "  color: var(--sklearn-color-icon);\n",
       "}\n",
       "\n",
       "#sk-container-id-1 label.sk-toggleable__label-arrow:hover:before {\n",
       "  color: var(--sklearn-color-text);\n",
       "}\n",
       "\n",
       "/* Toggleable content - dropdown */\n",
       "\n",
       "#sk-container-id-1 div.sk-toggleable__content {\n",
       "  max-height: 0;\n",
       "  max-width: 0;\n",
       "  overflow: hidden;\n",
       "  text-align: left;\n",
       "  /* unfitted */\n",
       "  background-color: var(--sklearn-color-unfitted-level-0);\n",
       "}\n",
       "\n",
       "#sk-container-id-1 div.sk-toggleable__content.fitted {\n",
       "  /* fitted */\n",
       "  background-color: var(--sklearn-color-fitted-level-0);\n",
       "}\n",
       "\n",
       "#sk-container-id-1 div.sk-toggleable__content pre {\n",
       "  margin: 0.2em;\n",
       "  border-radius: 0.25em;\n",
       "  color: var(--sklearn-color-text);\n",
       "  /* unfitted */\n",
       "  background-color: var(--sklearn-color-unfitted-level-0);\n",
       "}\n",
       "\n",
       "#sk-container-id-1 div.sk-toggleable__content.fitted pre {\n",
       "  /* unfitted */\n",
       "  background-color: var(--sklearn-color-fitted-level-0);\n",
       "}\n",
       "\n",
       "#sk-container-id-1 input.sk-toggleable__control:checked~div.sk-toggleable__content {\n",
       "  /* Expand drop-down */\n",
       "  max-height: 200px;\n",
       "  max-width: 100%;\n",
       "  overflow: auto;\n",
       "}\n",
       "\n",
       "#sk-container-id-1 input.sk-toggleable__control:checked~label.sk-toggleable__label-arrow:before {\n",
       "  content: \"▾\";\n",
       "}\n",
       "\n",
       "/* Pipeline/ColumnTransformer-specific style */\n",
       "\n",
       "#sk-container-id-1 div.sk-label input.sk-toggleable__control:checked~label.sk-toggleable__label {\n",
       "  color: var(--sklearn-color-text);\n",
       "  background-color: var(--sklearn-color-unfitted-level-2);\n",
       "}\n",
       "\n",
       "#sk-container-id-1 div.sk-label.fitted input.sk-toggleable__control:checked~label.sk-toggleable__label {\n",
       "  background-color: var(--sklearn-color-fitted-level-2);\n",
       "}\n",
       "\n",
       "/* Estimator-specific style */\n",
       "\n",
       "/* Colorize estimator box */\n",
       "#sk-container-id-1 div.sk-estimator input.sk-toggleable__control:checked~label.sk-toggleable__label {\n",
       "  /* unfitted */\n",
       "  background-color: var(--sklearn-color-unfitted-level-2);\n",
       "}\n",
       "\n",
       "#sk-container-id-1 div.sk-estimator.fitted input.sk-toggleable__control:checked~label.sk-toggleable__label {\n",
       "  /* fitted */\n",
       "  background-color: var(--sklearn-color-fitted-level-2);\n",
       "}\n",
       "\n",
       "#sk-container-id-1 div.sk-label label.sk-toggleable__label,\n",
       "#sk-container-id-1 div.sk-label label {\n",
       "  /* The background is the default theme color */\n",
       "  color: var(--sklearn-color-text-on-default-background);\n",
       "}\n",
       "\n",
       "/* On hover, darken the color of the background */\n",
       "#sk-container-id-1 div.sk-label:hover label.sk-toggleable__label {\n",
       "  color: var(--sklearn-color-text);\n",
       "  background-color: var(--sklearn-color-unfitted-level-2);\n",
       "}\n",
       "\n",
       "/* Label box, darken color on hover, fitted */\n",
       "#sk-container-id-1 div.sk-label.fitted:hover label.sk-toggleable__label.fitted {\n",
       "  color: var(--sklearn-color-text);\n",
       "  background-color: var(--sklearn-color-fitted-level-2);\n",
       "}\n",
       "\n",
       "/* Estimator label */\n",
       "\n",
       "#sk-container-id-1 div.sk-label label {\n",
       "  font-family: monospace;\n",
       "  font-weight: bold;\n",
       "  display: inline-block;\n",
       "  line-height: 1.2em;\n",
       "}\n",
       "\n",
       "#sk-container-id-1 div.sk-label-container {\n",
       "  text-align: center;\n",
       "}\n",
       "\n",
       "/* Estimator-specific */\n",
       "#sk-container-id-1 div.sk-estimator {\n",
       "  font-family: monospace;\n",
       "  border: 1px dotted var(--sklearn-color-border-box);\n",
       "  border-radius: 0.25em;\n",
       "  box-sizing: border-box;\n",
       "  margin-bottom: 0.5em;\n",
       "  /* unfitted */\n",
       "  background-color: var(--sklearn-color-unfitted-level-0);\n",
       "}\n",
       "\n",
       "#sk-container-id-1 div.sk-estimator.fitted {\n",
       "  /* fitted */\n",
       "  background-color: var(--sklearn-color-fitted-level-0);\n",
       "}\n",
       "\n",
       "/* on hover */\n",
       "#sk-container-id-1 div.sk-estimator:hover {\n",
       "  /* unfitted */\n",
       "  background-color: var(--sklearn-color-unfitted-level-2);\n",
       "}\n",
       "\n",
       "#sk-container-id-1 div.sk-estimator.fitted:hover {\n",
       "  /* fitted */\n",
       "  background-color: var(--sklearn-color-fitted-level-2);\n",
       "}\n",
       "\n",
       "/* Specification for estimator info (e.g. \"i\" and \"?\") */\n",
       "\n",
       "/* Common style for \"i\" and \"?\" */\n",
       "\n",
       ".sk-estimator-doc-link,\n",
       "a:link.sk-estimator-doc-link,\n",
       "a:visited.sk-estimator-doc-link {\n",
       "  float: right;\n",
       "  font-size: smaller;\n",
       "  line-height: 1em;\n",
       "  font-family: monospace;\n",
       "  background-color: var(--sklearn-color-background);\n",
       "  border-radius: 1em;\n",
       "  height: 1em;\n",
       "  width: 1em;\n",
       "  text-decoration: none !important;\n",
       "  margin-left: 1ex;\n",
       "  /* unfitted */\n",
       "  border: var(--sklearn-color-unfitted-level-1) 1pt solid;\n",
       "  color: var(--sklearn-color-unfitted-level-1);\n",
       "}\n",
       "\n",
       ".sk-estimator-doc-link.fitted,\n",
       "a:link.sk-estimator-doc-link.fitted,\n",
       "a:visited.sk-estimator-doc-link.fitted {\n",
       "  /* fitted */\n",
       "  border: var(--sklearn-color-fitted-level-1) 1pt solid;\n",
       "  color: var(--sklearn-color-fitted-level-1);\n",
       "}\n",
       "\n",
       "/* On hover */\n",
       "div.sk-estimator:hover .sk-estimator-doc-link:hover,\n",
       ".sk-estimator-doc-link:hover,\n",
       "div.sk-label-container:hover .sk-estimator-doc-link:hover,\n",
       ".sk-estimator-doc-link:hover {\n",
       "  /* unfitted */\n",
       "  background-color: var(--sklearn-color-unfitted-level-3);\n",
       "  color: var(--sklearn-color-background);\n",
       "  text-decoration: none;\n",
       "}\n",
       "\n",
       "div.sk-estimator.fitted:hover .sk-estimator-doc-link.fitted:hover,\n",
       ".sk-estimator-doc-link.fitted:hover,\n",
       "div.sk-label-container:hover .sk-estimator-doc-link.fitted:hover,\n",
       ".sk-estimator-doc-link.fitted:hover {\n",
       "  /* fitted */\n",
       "  background-color: var(--sklearn-color-fitted-level-3);\n",
       "  color: var(--sklearn-color-background);\n",
       "  text-decoration: none;\n",
       "}\n",
       "\n",
       "/* Span, style for the box shown on hovering the info icon */\n",
       ".sk-estimator-doc-link span {\n",
       "  display: none;\n",
       "  z-index: 9999;\n",
       "  position: relative;\n",
       "  font-weight: normal;\n",
       "  right: .2ex;\n",
       "  padding: .5ex;\n",
       "  margin: .5ex;\n",
       "  width: min-content;\n",
       "  min-width: 20ex;\n",
       "  max-width: 50ex;\n",
       "  color: var(--sklearn-color-text);\n",
       "  box-shadow: 2pt 2pt 4pt #999;\n",
       "  /* unfitted */\n",
       "  background: var(--sklearn-color-unfitted-level-0);\n",
       "  border: .5pt solid var(--sklearn-color-unfitted-level-3);\n",
       "}\n",
       "\n",
       ".sk-estimator-doc-link.fitted span {\n",
       "  /* fitted */\n",
       "  background: var(--sklearn-color-fitted-level-0);\n",
       "  border: var(--sklearn-color-fitted-level-3);\n",
       "}\n",
       "\n",
       ".sk-estimator-doc-link:hover span {\n",
       "  display: block;\n",
       "}\n",
       "\n",
       "/* \"?\"-specific style due to the `<a>` HTML tag */\n",
       "\n",
       "#sk-container-id-1 a.estimator_doc_link {\n",
       "  float: right;\n",
       "  font-size: 1rem;\n",
       "  line-height: 1em;\n",
       "  font-family: monospace;\n",
       "  background-color: var(--sklearn-color-background);\n",
       "  border-radius: 1rem;\n",
       "  height: 1rem;\n",
       "  width: 1rem;\n",
       "  text-decoration: none;\n",
       "  /* unfitted */\n",
       "  color: var(--sklearn-color-unfitted-level-1);\n",
       "  border: var(--sklearn-color-unfitted-level-1) 1pt solid;\n",
       "}\n",
       "\n",
       "#sk-container-id-1 a.estimator_doc_link.fitted {\n",
       "  /* fitted */\n",
       "  border: var(--sklearn-color-fitted-level-1) 1pt solid;\n",
       "  color: var(--sklearn-color-fitted-level-1);\n",
       "}\n",
       "\n",
       "/* On hover */\n",
       "#sk-container-id-1 a.estimator_doc_link:hover {\n",
       "  /* unfitted */\n",
       "  background-color: var(--sklearn-color-unfitted-level-3);\n",
       "  color: var(--sklearn-color-background);\n",
       "  text-decoration: none;\n",
       "}\n",
       "\n",
       "#sk-container-id-1 a.estimator_doc_link.fitted:hover {\n",
       "  /* fitted */\n",
       "  background-color: var(--sklearn-color-fitted-level-3);\n",
       "}\n",
       "</style><div id=\"sk-container-id-1\" class=\"sk-top-container\"><div class=\"sk-text-repr-fallback\"><pre>RandomForestRegressor(max_depth=10, min_samples_split=5)</pre><b>In a Jupyter environment, please rerun this cell to show the HTML representation or trust the notebook. <br />On GitHub, the HTML representation is unable to render, please try loading this page with nbviewer.org.</b></div><div class=\"sk-container\" hidden><div class=\"sk-item\"><div class=\"sk-estimator fitted sk-toggleable\"><input class=\"sk-toggleable__control sk-hidden--visually\" id=\"sk-estimator-id-1\" type=\"checkbox\" checked><label for=\"sk-estimator-id-1\" class=\"sk-toggleable__label fitted sk-toggleable__label-arrow fitted\">&nbsp;&nbsp;RandomForestRegressor<a class=\"sk-estimator-doc-link fitted\" rel=\"noreferrer\" target=\"_blank\" href=\"https://scikit-learn.org/1.5/modules/generated/sklearn.ensemble.RandomForestRegressor.html\">?<span>Documentation for RandomForestRegressor</span></a><span class=\"sk-estimator-doc-link fitted\">i<span>Fitted</span></span></label><div class=\"sk-toggleable__content fitted\"><pre>RandomForestRegressor(max_depth=10, min_samples_split=5)</pre></div> </div></div></div></div>"
      ],
      "text/plain": [
       "RandomForestRegressor(max_depth=10, min_samples_split=5)"
      ]
     },
     "execution_count": 75,
     "metadata": {},
     "output_type": "execute_result"
    }
   ],
   "source": [
    "# Fit the model on training data after cross-validation\n",
    "model1.fit(x_train, y_train)"
   ]
  },
  {
   "cell_type": "code",
   "execution_count": 76,
   "id": "19ba2866-8548-4b8e-a2a5-d89300ee7226",
   "metadata": {},
   "outputs": [],
   "source": [
    "y_pred=model1.predict(x_test)"
   ]
  },
  {
   "cell_type": "code",
   "execution_count": 77,
   "id": "96cfe8ff-8673-4502-a566-62bee944bb8e",
   "metadata": {},
   "outputs": [
    {
     "name": "stdout",
     "output_type": "stream",
     "text": [
      "0.9954318643647049\n"
     ]
    }
   ],
   "source": [
    " print(r2_score(y_test,y_pred))"
   ]
  },
  {
   "cell_type": "markdown",
   "id": "2ec90281-f267-4244-817f-eb18f78b1def",
   "metadata": {},
   "source": [
    "#### Creating Function to take input from user and make prediction"
   ]
  },
  {
   "cell_type": "code",
   "execution_count": 78,
   "id": "5453c78d-0ba8-4842-8c63-ba1651363de4",
   "metadata": {},
   "outputs": [
    {
     "name": "stdin",
     "output_type": "stream",
     "text": [
      "Enter Area (in hectares):  2345\n",
      "Enter Annual Rainfall (in mm):  63513\n",
      "Enter Fertilizer used (in kg):  12313\n",
      "Enter Pesticide used (in kg):  231\n",
      "Enter Crop Year (e.g. 2022):  2023\n",
      "Enter Crop name (e.g. Rice):  Rice\n",
      "Enter Season (e.g. Kharif):  Rabi\n",
      "Enter State (e.g. Karnataka):  Karnataka\n"
     ]
    },
    {
     "name": "stdout",
     "output_type": "stream",
     "text": [
      "\n",
      "✅ Predicted Crop Production will be: 4915.61 kg\n",
      "Predicted Crop Yield will be : 2.0962073724628087 kg/ha\n"
     ]
    },
    {
     "name": "stderr",
     "output_type": "stream",
     "text": [
      "C:\\Users\\KOMAL\\anaconda3\\Lib\\site-packages\\sklearn\\preprocessing\\_label.py:132: DataConversionWarning: A column-vector y was passed when a 1d array was expected. Please change the shape of y to (n_samples, ), for example using ravel().\n",
      "  y = column_or_1d(y, dtype=self.classes_.dtype, warn=True)\n",
      "C:\\Users\\KOMAL\\anaconda3\\Lib\\site-packages\\sklearn\\preprocessing\\_label.py:132: DataConversionWarning: A column-vector y was passed when a 1d array was expected. Please change the shape of y to (n_samples, ), for example using ravel().\n",
      "  y = column_or_1d(y, dtype=self.classes_.dtype, warn=True)\n",
      "C:\\Users\\KOMAL\\anaconda3\\Lib\\site-packages\\sklearn\\preprocessing\\_label.py:132: DataConversionWarning: A column-vector y was passed when a 1d array was expected. Please change the shape of y to (n_samples, ), for example using ravel().\n",
      "  y = column_or_1d(y, dtype=self.classes_.dtype, warn=True)\n"
     ]
    }
   ],
   "source": [
    "def predict_crop_yield_user_input(encoder, encoder1, encoder2, scaler, model):\n",
    "    # Take inputs from user\n",
    "    Area = float(input(\"Enter Area (in hectares): \"))\n",
    "    Annual_Rainfall = float(input(\"Enter Annual Rainfall (in mm): \"))\n",
    "    Fertilizer = float(input(\"Enter Fertilizer used (in kg): \"))\n",
    "    Pesticide = float(input(\"Enter Pesticide used (in kg): \"))\n",
    "    Crop_Year = int(input(\"Enter Crop Year (e.g. 2022): \"))\n",
    "    Crop = input(\"Enter Crop name (e.g. Rice): \")\n",
    "    Season = input(\"Enter Season (e.g. Kharif): \")\n",
    "    State = input(\"Enter State (e.g. Karnataka): \")\n",
    "\n",
    "    # Create DataFrame\n",
    "    input_data = pd.DataFrame([{\n",
    "        'Area': Area,\n",
    "        'Annual_Rainfall': Annual_Rainfall,\n",
    "        'Fertilizer': Fertilizer,\n",
    "        'Pesticide': Pesticide,\n",
    "        'Crop_Year': Crop_Year,\n",
    "        'Crop': Crop,\n",
    "        'Season': Season,\n",
    "        'State': State\n",
    "    }])\n",
    "\n",
    "    # Encode categorical features\n",
    "    input_data['Crop'] = encoder.transform(input_data[['Crop']])\n",
    "    input_data['State'] = encoder1.transform(input_data[['State']])\n",
    "    input_data['Season'] = encoder2.transform(input_data[['Season']])\n",
    "\n",
    "    # Scale features\n",
    "    scaled_data = scaler.transform(input_data)\n",
    "\n",
    "    # Predict\n",
    "    prediction = model.predict(scaled_data)\n",
    "    area = input_data['Area'].values[0]\n",
    "    yields = prediction[0] / area\n",
    "\n",
    "    print(f\"\\n✅ Predicted Crop Production will be: {prediction[0]:.2f} kg\")\n",
    "    print(\"Predicted Crop Yield will be :\",yields,\"kg/ha\")\n",
    "    \n",
    "predict_crop_yield_user_input(encoder, encoder1, encoder2, s, model1)"
   ]
  },
  {
   "cell_type": "code",
   "execution_count": 79,
   "id": "2980ea45-9990-451d-878c-af16fbcbdd23",
   "metadata": {},
   "outputs": [],
   "source": [
    "# import pickle\n",
    "\n",
    "# with open('model.pkl', 'wb') as f_model:\n",
    "#     pickle.dump(model1, f_model)\n",
    "\n",
    "# with open('scaler.pkl', 'wb') as f_scaler:\n",
    "#     pickle.dump(s, f_scaler)\n",
    "\n",
    "# print(\"✅ Model and scaler saved as 'model.pkl' and 'scaler.pkl'\")\n"
   ]
  },
  {
   "cell_type": "code",
   "execution_count": 80,
   "id": "e991e31d-000d-4232-9905-7c6cd8e22856",
   "metadata": {},
   "outputs": [
    {
     "data": {
      "text/plain": [
       "['scaler1.pkl']"
      ]
     },
     "execution_count": 80,
     "metadata": {},
     "output_type": "execute_result"
    }
   ],
   "source": [
    "# Save model and scaler using joblib\n",
    "import joblib\n",
    "\n",
    "joblib.dump(model1, 'model1.pkl')\n",
    "joblib.dump(s, 'scaler1.pkl')"
   ]
  },
  {
   "cell_type": "code",
   "execution_count": 81,
   "id": "37773cf7-2939-4f8c-a002-20b245190f39",
   "metadata": {},
   "outputs": [
    {
     "data": {
      "text/plain": [
       "['season_encoder.pkl']"
      ]
     },
     "execution_count": 81,
     "metadata": {},
     "output_type": "execute_result"
    }
   ],
   "source": [
    "joblib.dump(encoder, 'crop_encoder.pkl')\n",
    "joblib.dump(encoder1, 'state_encoder.pkl')\n",
    "joblib.dump(encoder2, 'season_encoder.pkl')"
   ]
  },
  {
   "cell_type": "code",
   "execution_count": null,
   "id": "8b9e58da-9673-4249-9d49-8114057b0f0c",
   "metadata": {},
   "outputs": [],
   "source": []
  }
 ],
 "metadata": {
  "kernelspec": {
   "display_name": "Python 3 (ipykernel)",
   "language": "python",
   "name": "python3"
  },
  "language_info": {
   "codemirror_mode": {
    "name": "ipython",
    "version": 3
   },
   "file_extension": ".py",
   "mimetype": "text/x-python",
   "name": "python",
   "nbconvert_exporter": "python",
   "pygments_lexer": "ipython3",
   "version": "3.12.7"
  }
 },
 "nbformat": 4,
 "nbformat_minor": 5
}
